{
 "cells": [
  {
   "cell_type": "code",
   "execution_count": 3,
   "id": "7ca16d5b",
   "metadata": {},
   "outputs": [
    {
     "data": {
      "text/plain": [
       "bool"
      ]
     },
     "execution_count": 3,
     "metadata": {},
     "output_type": "execute_result"
    }
   ],
   "source": [
    "#Boolean\n",
    "mahasiswa_aktif = False \n",
    "type(mahasiswa_aktif)"
   ]
  },
  {
   "cell_type": "code",
   "execution_count": 4,
   "id": "214546d0",
   "metadata": {},
   "outputs": [
    {
     "data": {
      "text/plain": [
       "bool"
      ]
     },
     "execution_count": 4,
     "metadata": {},
     "output_type": "execute_result"
    }
   ],
   "source": [
    "lulus = True\n",
    "type(lulus)"
   ]
  },
  {
   "cell_type": "code",
   "execution_count": 5,
   "id": "b8e04c4d",
   "metadata": {},
   "outputs": [
    {
     "data": {
      "text/plain": [
       "90"
      ]
     },
     "execution_count": 5,
     "metadata": {},
     "output_type": "execute_result"
    }
   ],
   "source": [
    "score = 65\n",
    "score = 75 \n",
    "score = 80\n",
    "score = 90 \n",
    "\n",
    "\n",
    "# Periksa isi variable score\n",
    "score"
   ]
  },
  {
   "cell_type": "code",
   "execution_count": 6,
   "id": "63a3f1f5",
   "metadata": {},
   "outputs": [
    {
     "data": {
      "text/plain": [
       "str"
      ]
     },
     "execution_count": 6,
     "metadata": {},
     "output_type": "execute_result"
    }
   ],
   "source": [
    "wadah = 'Indonesia'\n",
    "type(wadah)"
   ]
  },
  {
   "cell_type": "code",
   "execution_count": 7,
   "id": "25e679a1",
   "metadata": {},
   "outputs": [
    {
     "data": {
      "text/plain": [
       "bool"
      ]
     },
     "execution_count": 7,
     "metadata": {},
     "output_type": "execute_result"
    }
   ],
   "source": [
    "wadah = True \n",
    "type(wadah)"
   ]
  },
  {
   "cell_type": "code",
   "execution_count": 8,
   "id": "45f49fbb",
   "metadata": {},
   "outputs": [
    {
     "data": {
      "text/plain": [
       "int"
      ]
     },
     "execution_count": 8,
     "metadata": {},
     "output_type": "execute_result"
    }
   ],
   "source": [
    "wadah = 23750000\n",
    "type(wadah)"
   ]
  },
  {
   "cell_type": "code",
   "execution_count": 9,
   "id": "82e27123",
   "metadata": {},
   "outputs": [
    {
     "data": {
      "text/plain": [
       "float"
      ]
     },
     "execution_count": 9,
     "metadata": {},
     "output_type": "execute_result"
    }
   ],
   "source": [
    "wadah = 5.02\n",
    "type(wadah)"
   ]
  },
  {
   "cell_type": "code",
   "execution_count": 10,
   "id": "e2823cdf",
   "metadata": {},
   "outputs": [],
   "source": [
    "#Mencetak Variable\n",
    "nama = \"Asnawi Mangkualam\"\n",
    "usia = 22 \n",
    "bmi = 23.2 \n",
    "timnas = True "
   ]
  },
  {
   "cell_type": "code",
   "execution_count": 11,
   "id": "41412e64",
   "metadata": {},
   "outputs": [
    {
     "name": "stdout",
     "output_type": "stream",
     "text": [
      "Asnawi Mangkualam\n",
      "22\n",
      "23.2\n",
      "True\n"
     ]
    }
   ],
   "source": [
    "print(nama)\n",
    "print(usia)\n",
    "print(bmi)\n",
    "print(timnas)"
   ]
  },
  {
   "cell_type": "code",
   "execution_count": 13,
   "id": "7a76d6a3",
   "metadata": {},
   "outputs": [
    {
     "name": "stdout",
     "output_type": "stream",
     "text": [
      "Nama\t\t: Asnawi Mangkualam\n",
      "Usia\t\t: 22 tahun\n",
      "BMI\t\t: 23.2\n",
      "Pemain Timnas\t: True\n"
     ]
    }
   ],
   "source": [
    "print(\"Nama\\t\\t:\",nama)\n",
    "print(\"Usia\\t\\t:\", usia, 'tahun')\n",
    "print(\"BMI\\t\\t:\", bmi)\n",
    "print(\"Pemain Timnas\\t:\", timnas)"
   ]
  },
  {
   "cell_type": "code",
   "execution_count": 14,
   "id": "207ac611",
   "metadata": {},
   "outputs": [
    {
     "name": "stdout",
     "output_type": "stream",
     "text": [
      "Nama\t\t: Asnawi Mangkualam\n",
      "Usia\t\t: 22 tahun\n",
      "BMI\t\t: 23.2\n",
      "Pemain Timnas\t: True\n"
     ]
    }
   ],
   "source": [
    "#Menggunakan string formatting dengan bantuan simbol {}\n",
    "print(\"Nama\\t\\t: {}\".format(nama))\n",
    "print(\"Usia\\t\\t: {} tahun\".format(usia))\n",
    "print(\"BMI\\t\\t: {}\".format(bmi))\n",
    "print(\"Pemain Timnas\\t: {}\".format(timnas))"
   ]
  },
  {
   "cell_type": "code",
   "execution_count": 16,
   "id": "8e03d555",
   "metadata": {},
   "outputs": [
    {
     "name": "stdout",
     "output_type": "stream",
     "text": [
      "Nama\t\t: Asnawi Mangkualam\n",
      "Usia\t\t: 22 tahun\n",
      "BMI\t\t: 23.2\n",
      "Pemain Timnas\t: True\n"
     ]
    }
   ],
   "source": [
    "#Menggunakan f-string\n",
    "print(f\"Nama\\t\\t: {nama}\")\n",
    "print(f\"Usia\\t\\t: {usia} tahun\")\n",
    "print(f\"BMI\\t\\t: {bmi}\")\n",
    "print(f\"Pemain Timnas\\t: {timnas}\")"
   ]
  },
  {
   "cell_type": "code",
   "execution_count": 17,
   "id": "41c3c955",
   "metadata": {},
   "outputs": [
    {
     "name": "stdout",
     "output_type": "stream",
     "text": [
      "panjang = 100, lebar = 80\n"
     ]
    }
   ],
   "source": [
    "panjang = 80\n",
    "lebar = 100\n",
    "\n",
    "panjang,lebar = lebar, panjang\n",
    "print(f\"panjang = {panjang}, lebar = {lebar}\")"
   ]
  },
  {
   "cell_type": "code",
   "execution_count": 18,
   "id": "f10d15e2",
   "metadata": {},
   "outputs": [
    {
     "ename": "NameError",
     "evalue": "name 'minggu' is not defined",
     "output_type": "error",
     "traceback": [
      "\u001b[1;31m---------------------------------------------------------------------------\u001b[0m",
      "\u001b[1;31mNameError\u001b[0m                                 Traceback (most recent call last)",
      "Input \u001b[1;32mIn [18]\u001b[0m, in \u001b[0;36m<cell line: 7>\u001b[1;34m()\u001b[0m\n\u001b[0;32m      4\u001b[0m topiK \u001b[38;5;241m=\u001b[39m \u001b[38;5;124m'\u001b[39m\u001b[38;5;124mMyFirstProgram.py\u001b[39m\u001b[38;5;124m'\u001b[39m\n\u001b[0;32m      5\u001b[0m ModuleLink \u001b[38;5;241m=\u001b[39m \u001b[38;5;124m'\u001b[39m\u001b[38;5;124mhttps://www.orbitguru.org\u001b[39m\u001b[38;5;124m'\u001b[39m\n\u001b[1;32m----> 7\u001b[0m \u001b[38;5;28mprint\u001b[39m(\u001b[38;5;124mf\u001b[39m\u001b[38;5;124m\"\u001b[39m\u001b[38;5;124mLihat Materi minggu ke-\u001b[39m\u001b[38;5;132;01m{\u001b[39;00mminggu\u001b[38;5;132;01m}\u001b[39;00m\u001b[38;5;124m, tentang \u001b[39m\u001b[38;5;132;01m{\u001b[39;00mtopik\u001b[38;5;132;01m}\u001b[39;00m\u001b[38;5;124m, di sini: \u001b[39m\u001b[38;5;132;01m{\u001b[39;00mmodulelink\u001b[38;5;132;01m}\u001b[39;00m\u001b[38;5;124m\"\u001b[39m)\n",
      "\u001b[1;31mNameError\u001b[0m: name 'minggu' is not defined"
     ]
    }
   ],
   "source": [
    "#Case Sensitive \n",
    "\n",
    "Minggu = 1 \n",
    "topiK = 'MyFirstProgram.py'\n",
    "ModuleLink = 'https://www.orbitguru.org'\n",
    "\n",
    "print(f\"Lihat Materi minggu ke-{minggu}, tentang {topik}, di sini: {modulelink}\")\n",
    "\n",
    "#karena Python adalah programming languange yang case sensitive sehingga haru diperhatikan besar kecil pada huruf \n",
    "#kesalahan :\n",
    "# ada pada Minggu = 1 dimana yang benar minggu ( M nya harusnya kecil )\n",
    "# topiK = 'MyFirstProgram.py' harusnya topik \n",
    "# ModuleLink = 'https://www.orbitguru.org' harusnya modulelink"
   ]
  },
  {
   "cell_type": "code",
   "execution_count": 1,
   "id": "ae8f7160",
   "metadata": {},
   "outputs": [
    {
     "name": "stdout",
     "output_type": "stream",
     "text": [
      "Nama\t\t\t: Awanta\n",
      "Usia\t\t\t:22\n",
      "Jenis Kelamin\t\t: Laki - Laki\n",
      "Asal perguruan tingi \t: PENS\n",
      "Program studi\t\t: Teknik Komputer\n",
      "\n",
      "Halo! Perkenalkan, namaku Awanta dan usiaku 22 tahun.\n",
      "Aku seorang Laki - Laki.\n",
      "Saat ini, aku berkuliah di PENS, jurusanTeknik Komputer.\n",
      "Salam kenal!\n",
      "\n"
     ]
    }
   ],
   "source": [
    "#Menginput Nilai\n",
    "nama  = input('Nama\\t\\t\\t: ')\n",
    "usia = input('Usia\\t\\t\\t:')\n",
    "jenkel = input('Jenis Kelamin\\t\\t: ')\n",
    "Asal_PT = input('Asal perguruan tinggi \\t: ')\n",
    "prodi = input('Program studi\\t\\t: ')\n",
    "\n",
    "print(f\"\"\"\\nHalo! Perkenalkan, namaku {nama} dan usiaku {usia} tahun.\n",
    "Aku seorang {jenkel}.\n",
    "Saat ini, aku berkuliah di {Asal_PT}, jurusan {prodi}.\n",
    "Salam kenal!\n",
    "\"\"\")"
   ]
  },
  {
   "cell_type": "code",
   "execution_count": 2,
   "id": "b9f3ae0f",
   "metadata": {},
   "outputs": [
    {
     "name": "stdout",
     "output_type": "stream",
     "text": [
      "Tahun lahir Anda = 2000\n"
     ]
    },
    {
     "data": {
      "text/plain": [
       "str"
      ]
     },
     "execution_count": 2,
     "metadata": {},
     "output_type": "execute_result"
    }
   ],
   "source": [
    "#Type Casting\n",
    "tahun_lahir = input('Tahun lahir Anda = ')\n",
    "type(tahun_lahir)"
   ]
  },
  {
   "cell_type": "code",
   "execution_count": 3,
   "id": "ad70f4f6",
   "metadata": {},
   "outputs": [
    {
     "name": "stdout",
     "output_type": "stream",
     "text": [
      "Tahun lahir Anda = 2000\n"
     ]
    },
    {
     "ename": "TypeError",
     "evalue": "unsupported operand type(s) for -: 'int' and 'str'",
     "output_type": "error",
     "traceback": [
      "\u001b[1;31m---------------------------------------------------------------------------\u001b[0m",
      "\u001b[1;31mTypeError\u001b[0m                                 Traceback (most recent call last)",
      "Input \u001b[1;32mIn [3]\u001b[0m, in \u001b[0;36m<cell line: 2>\u001b[1;34m()\u001b[0m\n\u001b[0;32m      1\u001b[0m tahun_lahir \u001b[38;5;241m=\u001b[39m \u001b[38;5;28minput\u001b[39m(\u001b[38;5;124m'\u001b[39m\u001b[38;5;124mTahun lahir Anda = \u001b[39m\u001b[38;5;124m'\u001b[39m)\n\u001b[1;32m----> 2\u001b[0m \u001b[38;5;28mprint\u001b[39m(\u001b[38;5;124m'\u001b[39m\u001b[38;5;124mUsia Anda saat ini=\u001b[39m\u001b[38;5;124m'\u001b[39m, \u001b[38;5;241;43m2022\u001b[39;49m\u001b[43m \u001b[49m\u001b[38;5;241;43m-\u001b[39;49m\u001b[43m \u001b[49m\u001b[43mtahun_lahir\u001b[49m, \u001b[38;5;124m'\u001b[39m\u001b[38;5;124mtahun\u001b[39m\u001b[38;5;124m'\u001b[39m)\n",
      "\u001b[1;31mTypeError\u001b[0m: unsupported operand type(s) for -: 'int' and 'str'"
     ]
    }
   ],
   "source": [
    "tahun_lahir = input('Tahun lahir Anda = ')\n",
    "print('Usia Anda saat ini=', 2022 - tahun_lahir, 'tahun')\n",
    "\n",
    "#Karena operasi matematikanya tidak di masukkan pada suatu variabel, malah dituliskan secara langsung"
   ]
  },
  {
   "cell_type": "code",
   "execution_count": 4,
   "id": "18853b71",
   "metadata": {},
   "outputs": [
    {
     "name": "stdout",
     "output_type": "stream",
     "text": [
      "93\n"
     ]
    }
   ],
   "source": [
    "#Type Casting\n",
    "accuracy = 93.845\n",
    "accuracy = int(accuracy) # float to int\n",
    "print(accuracy)"
   ]
  },
  {
   "cell_type": "code",
   "execution_count": 6,
   "id": "eadb9f2f",
   "metadata": {},
   "outputs": [
    {
     "name": "stdout",
     "output_type": "stream",
     "text": [
      "30.0\n"
     ]
    }
   ],
   "source": [
    "jumlah_data = 30\n",
    "jumlah_data = float(jumlah_data) # int to float\n",
    "print(jumlah_data)"
   ]
  },
  {
   "cell_type": "code",
   "execution_count": 7,
   "id": "e688f22f",
   "metadata": {},
   "outputs": [
    {
     "name": "stdout",
     "output_type": "stream",
     "text": [
      "101.325\n"
     ]
    }
   ],
   "source": [
    "pressure = '101.325'\n",
    "pressure = float(pressure) #string to float\n",
    "print(pressure)"
   ]
  },
  {
   "cell_type": "code",
   "execution_count": 8,
   "id": "e858dadf",
   "metadata": {},
   "outputs": [
    {
     "name": "stdout",
     "output_type": "stream",
     "text": [
      "False\n"
     ]
    }
   ],
   "source": [
    "average = 0.0\n",
    "average = bool(average) # float to bool\n",
    "print(average)"
   ]
  },
  {
   "cell_type": "code",
   "execution_count": 9,
   "id": "09244625",
   "metadata": {},
   "outputs": [
    {
     "ename": "ValueError",
     "evalue": "invalid literal for int() with base 10: 'Artificial Intellegence'",
     "output_type": "error",
     "traceback": [
      "\u001b[1;31m---------------------------------------------------------------------------\u001b[0m",
      "\u001b[1;31mValueError\u001b[0m                                Traceback (most recent call last)",
      "Input \u001b[1;32mIn [9]\u001b[0m, in \u001b[0;36m<cell line: 2>\u001b[1;34m()\u001b[0m\n\u001b[0;32m      1\u001b[0m bidang \u001b[38;5;241m=\u001b[39m \u001b[38;5;124m'\u001b[39m\u001b[38;5;124mArtificial Intellegence\u001b[39m\u001b[38;5;124m'\u001b[39m\n\u001b[1;32m----> 2\u001b[0m versi__int \u001b[38;5;241m=\u001b[39m \u001b[38;5;28;43mint\u001b[39;49m\u001b[43m(\u001b[49m\u001b[43mbidang\u001b[49m\u001b[43m)\u001b[49m\n\u001b[0;32m      3\u001b[0m versi_float \u001b[38;5;241m=\u001b[39m \u001b[38;5;28mfloat\u001b[39m(bidang)\n\u001b[0;32m      4\u001b[0m \u001b[38;5;28mprint\u001b[39m(versi_int, \u001b[38;5;124m'\u001b[39m\u001b[38;5;124mdan\u001b[39m\u001b[38;5;124m'\u001b[39m, versi_int)\n",
      "\u001b[1;31mValueError\u001b[0m: invalid literal for int() with base 10: 'Artificial Intellegence'"
     ]
    }
   ],
   "source": [
    "bidang = 'Artificial Intellegence'\n",
    "versi__int = int(bidang)\n",
    "versi_float = float(bidang)\n",
    "print(versi_int, 'dan', versi_int)"
   ]
  },
  {
   "cell_type": "code",
   "execution_count": 12,
   "id": "fb1a81d0",
   "metadata": {},
   "outputs": [],
   "source": [
    "#Exercise "
   ]
  },
  {
   "cell_type": "code",
   "execution_count": null,
   "id": "b0a0aec3",
   "metadata": {},
   "outputs": [],
   "source": [
    "#Persegi\n",
    "s = 4\n",
    "keliling = 4*s\n",
    "luas = s*s\n",
    "print(keliling)\n",
    "print(luas)"
   ]
  },
  {
   "cell_type": "code",
   "execution_count": 13,
   "id": "1b865d0d",
   "metadata": {},
   "outputs": [
    {
     "name": "stdout",
     "output_type": "stream",
     "text": [
      "14\n",
      "12\n"
     ]
    }
   ],
   "source": [
    "#Persegi Panjang\n",
    "p = 3\n",
    "l = 4\n",
    "keliling = 2*(p+l)\n",
    "luas = p * l\n",
    "print(keliling)\n",
    "print(luas)"
   ]
  },
  {
   "cell_type": "code",
   "execution_count": 14,
   "id": "102528a4",
   "metadata": {},
   "outputs": [
    {
     "name": "stdout",
     "output_type": "stream",
     "text": [
      "154.0\n",
      "44.0\n"
     ]
    }
   ],
   "source": [
    "#Lingkaran\n",
    "r = 7\n",
    "pi = 22/7\n",
    "keliling = pi * r * r\n",
    "luas = 2 * pi * r\n",
    "print(keliling)\n",
    "print(luas)"
   ]
  },
  {
   "cell_type": "code",
   "execution_count": 15,
   "id": "53962542",
   "metadata": {},
   "outputs": [
    {
     "name": "stdout",
     "output_type": "stream",
     "text": [
      "16\n",
      "12.0\n"
     ]
    }
   ],
   "source": [
    "#Segitiga\n",
    "a = 6\n",
    "b = 5\n",
    "c = b\n",
    "t = 4\n",
    "keliling = a + b + c \n",
    "luas = 0.5 * a * t \n",
    "print(keliling)\n",
    "print(luas)"
   ]
  },
  {
   "cell_type": "code",
   "execution_count": null,
   "id": "1657a7da",
   "metadata": {},
   "outputs": [],
   "source": []
  }
 ],
 "metadata": {
  "kernelspec": {
   "display_name": "Python 3 (ipykernel)",
   "language": "python",
   "name": "python3"
  },
  "language_info": {
   "codemirror_mode": {
    "name": "ipython",
    "version": 3
   },
   "file_extension": ".py",
   "mimetype": "text/x-python",
   "name": "python",
   "nbconvert_exporter": "python",
   "pygments_lexer": "ipython3",
   "version": "3.9.12"
  }
 },
 "nbformat": 4,
 "nbformat_minor": 5
}
