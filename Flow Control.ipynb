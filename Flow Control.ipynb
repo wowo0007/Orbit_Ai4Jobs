{
 "cells": [
  {
   "cell_type": "code",
   "execution_count": 1,
   "id": "de1661b7",
   "metadata": {},
   "outputs": [
    {
     "name": "stdout",
     "output_type": "stream",
     "text": [
      "Block of Code dieksekusi!\n"
     ]
    }
   ],
   "source": [
    "#if statement\n",
    "condition = True\n",
    "if(condition):\n",
    "    print('Block of Code dieksekusi!')"
   ]
  },
  {
   "cell_type": "code",
   "execution_count": 3,
   "id": "9abe04b5",
   "metadata": {},
   "outputs": [],
   "source": [
    "condition = False\n",
    "if(condition):\n",
    "    print('Block of Code dieksekusi !')"
   ]
  },
  {
   "cell_type": "markdown",
   "id": "f73231ff",
   "metadata": {},
   "source": [
    "saat di run tidak muncul apapun karena kondisi nya false atau salah"
   ]
  },
  {
   "cell_type": "code",
   "execution_count": 5,
   "id": "5ee48303",
   "metadata": {},
   "outputs": [],
   "source": [
    "# angka = 1 \n",
    "# if(angka >= 0):\n",
    "#     print(f'{angka} merupakan bilangan positif')\n",
    "angka = -9 \n",
    "if(angka >= 0):\n",
    "    print(f'{angka} merupakan bilangan positif')"
   ]
  },
  {
   "cell_type": "markdown",
   "id": "8fa77091",
   "metadata": {},
   "source": [
    "saat di run tidak muncul apapun karena tidak memenuhi syarat awal dimana harus lebih dari 0"
   ]
  },
  {
   "cell_type": "code",
   "execution_count": 7,
   "id": "cc38cca7",
   "metadata": {},
   "outputs": [
    {
     "name": "stdout",
     "output_type": "stream",
     "text": [
      "1. Anda boleh mengikuti ujian pembuatan SIM!\n",
      "5. Anda boleh mengikuti ujian pembuatan SIM!\n"
     ]
    }
   ],
   "source": [
    "usia = 17\n",
    "punya_KTP = 'yes'\n",
    "\n",
    "if(usia>= 17 and punya_KTP=='yes'):\n",
    "    print('1. Anda boleh mengikuti ujian pembuatan SIM!')\n",
    "    \n",
    "usia = 10\n",
    "punya_KTP = 'no'\n",
    "\n",
    "if(usia>= 17 and punya_KTP=='yes'):\n",
    "    print('2. Anda boleh mengikuti ujian pembuatan SIM!')\n",
    "    \n",
    "usia = 16\n",
    "punya_KTP = 'yes'\n",
    "\n",
    "if(usia>= 17 and punya_KTP=='yes'):\n",
    "    print('3. Anda boleh mengikuti ujian pembuatan SIM!')\n",
    "    \n",
    "usia = 32\n",
    "punya_KTP = 'no'\n",
    "\n",
    "if(usia>= 17 and punya_KTP=='yes'):\n",
    "    print('4. Anda boleh mengikuti ujian pembuatan SIM!')\n",
    "    \n",
    "usia = 23\n",
    "punya_KTP = 'yes'\n",
    "\n",
    "if(usia>= 17 and punya_KTP=='yes'):\n",
    "    print('5. Anda boleh mengikuti ujian pembuatan SIM!')"
   ]
  },
  {
   "cell_type": "code",
   "execution_count": 8,
   "id": "34c660a1",
   "metadata": {},
   "outputs": [
    {
     "name": "stdout",
     "output_type": "stream",
     "text": [
      "1. Anda boleh mengikuti ujian pembuatan SIM!\n",
      "3. Anda boleh mengikuti ujian pembuatan SIM!\n",
      "4. Anda boleh mengikuti ujian pembuatan SIM!\n",
      "5. Anda boleh mengikuti ujian pembuatan SIM!\n"
     ]
    }
   ],
   "source": [
    "usia = 17\n",
    "punya_KTP = 'yes'\n",
    "\n",
    "if(usia>= 17 or punya_KTP=='yes'):\n",
    "    print('1. Anda boleh mengikuti ujian pembuatan SIM!')\n",
    "    \n",
    "usia = 10\n",
    "punya_KTP = 'no'\n",
    "\n",
    "if(usia>= 17 or punya_KTP=='yes'):\n",
    "    print('2. Anda boleh mengikuti ujian pembuatan SIM!')\n",
    "    \n",
    "usia = 16\n",
    "punya_KTP = 'yes'\n",
    "\n",
    "if(usia>= 17 or punya_KTP=='yes'):\n",
    "    print('3. Anda boleh mengikuti ujian pembuatan SIM!')\n",
    "    \n",
    "usia = 32\n",
    "punya_KTP = 'no'\n",
    "\n",
    "if(usia>= 17 or punya_KTP=='yes'):\n",
    "    print('4. Anda boleh mengikuti ujian pembuatan SIM!')\n",
    "    \n",
    "usia = 23\n",
    "punya_KTP = 'yes'\n",
    "\n",
    "if(usia>= 17 or punya_KTP=='yes'):\n",
    "    print('5. Anda boleh mengikuti ujian pembuatan SIM!')"
   ]
  },
  {
   "cell_type": "code",
   "execution_count": 9,
   "id": "fc71b221",
   "metadata": {},
   "outputs": [],
   "source": [
    "usia = 25 \n",
    "punya_KTP = 'no'\n",
    "suket = 'no'\n",
    "\n",
    "if(usia >= 17 and (punya_KTP == 'yes' or suket == 'yes')):\n",
    "    print(\" Anda boleh mengikuti ujian pembuatan SIM ! \")"
   ]
  },
  {
   "cell_type": "code",
   "execution_count": 10,
   "id": "08e6ac03",
   "metadata": {},
   "outputs": [
    {
     "name": "stdout",
     "output_type": "stream",
     "text": [
      "Block of Code \"False\" dieksekusi!\n"
     ]
    }
   ],
   "source": [
    "#if-else Statement\n",
    "if condition:\n",
    "    print('Block of Code \"True\" dieksekusi!')\n",
    "else:\n",
    "    print('Block of Code \"False\" dieksekusi!')"
   ]
  },
  {
   "cell_type": "code",
   "execution_count": 11,
   "id": "557dadce",
   "metadata": {},
   "outputs": [
    {
     "name": "stdout",
     "output_type": "stream",
     "text": [
      "-100 bukan termasuk bilangan desimal\n"
     ]
    }
   ],
   "source": [
    "angka = -100\n",
    "if angka >= 0 and angka < 9:\n",
    "    print(f'{angka} merupakan bilangan desimal')\n",
    "else:\n",
    "     print(f'{angka} bukan termasuk bilangan desimal')  "
   ]
  },
  {
   "cell_type": "code",
   "execution_count": 12,
   "id": "260545f7",
   "metadata": {},
   "outputs": [
    {
     "name": "stdout",
     "output_type": "stream",
     "text": [
      "Input angka : 3\n",
      "3 merupakan bilangan desimal\n"
     ]
    }
   ],
   "source": [
    "angka = int(input('Input angka : '))\n",
    "\n",
    "if angka >= 0 and angka < 9:\n",
    "    print(f'{angka} merupakan bilangan desimal')\n",
    "else:\n",
    "     print(f'{angka} bukan termasuk bilangan desimal')  "
   ]
  },
  {
   "cell_type": "code",
   "execution_count": 13,
   "id": "20b8fe29",
   "metadata": {},
   "outputs": [
    {
     "name": "stdout",
     "output_type": "stream",
     "text": [
      "Memakai masker [y/n] : y\n",
      "Sudah vaksin ke-1 [y/n] : n\n",
      "Sudah vaksin ke-2 [y/n] : n\n",
      "Sudah booster ke-1 [y/n] : n\n",
      "Hasil pcr [+/-] : -\n",
      "\n",
      "Anda tidak diizinkan membeli tiket pesawat!\n"
     ]
    }
   ],
   "source": [
    "masker = input('Memakai masker [y/n] : ')\n",
    "vaksin_1 = input('Sudah vaksin ke-1 [y/n] : ')\n",
    "vaksin_2 = input('Sudah vaksin ke-2 [y/n] : ')\n",
    "booster = input('Sudah booster ke-1 [y/n] : ')\n",
    "pcr = input('Hasil pcr [+/-] : ')\n",
    "\n",
    "if masker=='y' and (vaksin_1=='y' or vaksin_2=='y' or booster=='y') and pcr!='+':\n",
    "    print('\\nAnda boleh membeli tiket pesawat!')\n",
    "    print('Tetap patuhi prokes!')\n",
    "    print('Lakukan isoman ketika sudah sampai ditujuan!')\n",
    "else:\n",
    "    print ('\\nAnda tidak diizinkan membeli tiket pesawat!')"
   ]
  },
  {
   "cell_type": "code",
   "execution_count": 15,
   "id": "65d5fd55",
   "metadata": {},
   "outputs": [
    {
     "name": "stdout",
     "output_type": "stream",
     "text": [
      "Pilihan utama dieksekusi!\n"
     ]
    }
   ],
   "source": [
    "#if-elif-else-statement\n",
    "condition = True\n",
    "condition1 = False\n",
    "\n",
    "if condition:\n",
    "    print('Pilihan utama dieksekusi!')\n",
    "elif condition1:\n",
    "    print('Alternatif 1 dieksekusi')\n",
    "else:\n",
    "    print('Alternatif terakhir dieksekusi')"
   ]
  },
  {
   "cell_type": "code",
   "execution_count": 18,
   "id": "2179a33e",
   "metadata": {},
   "outputs": [
    {
     "name": "stdout",
     "output_type": "stream",
     "text": [
      "input angka : 14\n",
      "14 merupakan bilangan asli\n"
     ]
    }
   ],
   "source": [
    "angka = int(input('input angka : '))\n",
    "\n",
    "if angka >= 0 and angka < 9:\n",
    "    print(f'{angka} merupakan bilangan desimal')\n",
    "elif angka<0:\n",
    "    print(f'{angka} merupakan bilangan negatif')\n",
    "else:\n",
    "    print(f'{angka} merupakan bilangan asli')"
   ]
  },
  {
   "cell_type": "code",
   "execution_count": 20,
   "id": "692e3de3",
   "metadata": {},
   "outputs": [
    {
     "name": "stdout",
     "output_type": "stream",
     "text": [
      "Input nilai mahasiswa : 65\n",
      "Anda mendapatkan gradeC\n"
     ]
    }
   ],
   "source": [
    "nilai =  float(input('Input nilai mahasiswa : '))\n",
    "\n",
    "if nilai >= 80:\n",
    "    grade = 'A'\n",
    "elif nilai >= 70:\n",
    "    grade = 'B'\n",
    "elif nilai >= 60:\n",
    "    grade = 'C'\n",
    "elif nilai >= 40:\n",
    "    grade = 'D'\n",
    "else:\n",
    "    grade='E'\n",
    "    \n",
    "print(f'Anda mendapatkan grade {grade}')"
   ]
  },
  {
   "cell_type": "code",
   "execution_count": 22,
   "id": "073aea9c",
   "metadata": {},
   "outputs": [
    {
     "name": "stdout",
     "output_type": "stream",
     "text": [
      "input jumlah setor tunai: 8000\n",
      "\n",
      "Biaya adaministrasi Anda sebesar Rp400.0\n",
      "Saldo Anda saat ini adalah Rp 7600.0\n"
     ]
    }
   ],
   "source": [
    "saldo = int(input('input jumlah setor tunai: '))\n",
    "administrasi = 0\n",
    "\n",
    "if saldo >= 10000:\n",
    "    administrasi = saldo*0.1\n",
    "    saldo -= administrasi\n",
    "elif saldo >= 5000:\n",
    "    administrasi = saldo*0.05\n",
    "    saldo -= administrasi\n",
    "elif saldo >= 1000:\n",
    "    administrasi = saldo*0.01\n",
    "    saldo -= administrasi\n",
    "\n",
    "print(f'\\nBiaya adaministrasi Anda sebesar Rp{administrasi}')\n",
    "print(f'Saldo Anda saat ini adalah Rp {saldo}')"
   ]
  },
  {
   "cell_type": "code",
   "execution_count": 2,
   "id": "0be21d4c",
   "metadata": {},
   "outputs": [
    {
     "name": "stdout",
     "output_type": "stream",
     "text": [
      "Input presensi student\t\t: 54\n",
      "\n",
      "Student tidak lulus karena presensi di bawah 85 %\n"
     ]
    }
   ],
   "source": [
    "presensi  = float(input('Input presensi student\\t\\t: '))\n",
    "\n",
    "if presensi >= 85:\n",
    "    tugas = float(input('input nilai latihan student\\t\\t: '))\n",
    "    ujian = float(input('input nilai ujian student\\t\\t: '))\n",
    "    nilai = presensi * 0.3 + tugas * 0.3 + ujian * 0.4\n",
    "    if nilai >= 60:\n",
    "        print(f'\\nStudent lulus dengan nilai {nilai}!')\n",
    "    else:\n",
    "        print(f'\\nStudent tidak lulus! Nilai yang didapat adalah {nilai}!')\n",
    "else:\n",
    "    print('\\nStudent tidak lulus karena presensi di bawah 85 %')"
   ]
  },
  {
   "cell_type": "code",
   "execution_count": 3,
   "id": "b45ea8cf",
   "metadata": {},
   "outputs": [
    {
     "name": "stdout",
     "output_type": "stream",
     "text": [
      "gagal\n"
     ]
    }
   ],
   "source": [
    "nilai = 50\n",
    "hasil = 'lulus' if nilai >= 60 else 'gagal'\n",
    "print(hasil)"
   ]
  },
  {
   "cell_type": "code",
   "execution_count": null,
   "id": "8ad8634a",
   "metadata": {},
   "outputs": [],
   "source": [
    "#Loops"
   ]
  },
  {
   "cell_type": "code",
   "execution_count": 4,
   "id": "e7de0555",
   "metadata": {},
   "outputs": [
    {
     "name": "stdout",
     "output_type": "stream",
     "text": [
      "Block od Code dieksekusi\n"
     ]
    }
   ],
   "source": [
    "condition = True\n",
    "while condition:\n",
    "    print('Block of Code dieksekusi')\n",
    "    condition = False"
   ]
  },
  {
   "cell_type": "code",
   "execution_count": 5,
   "id": "e4661825",
   "metadata": {},
   "outputs": [
    {
     "name": "stdout",
     "output_type": "stream",
     "text": [
      "Ulangi selama condition bernilai True\n",
      "Ulangi selama condition bernilai True\n",
      "Ulangi selama condition bernilai True\n",
      "Ulangi selama condition bernilai True\n",
      "Ulangi selama condition bernilai True\n",
      "Ulangi selama condition bernilai True\n",
      "Ulangi selama condition bernilai True\n",
      "Ulangi selama condition bernilai True\n",
      "Ulangi selama condition bernilai True\n",
      "Ulangi selama condition bernilai True\n",
      "10\n"
     ]
    }
   ],
   "source": [
    "val = 0 \n",
    "while val < 10:\n",
    "    print('Ulangi selama condition bernilai True')\n",
    "    val = val + 1\n",
    "\n",
    "print(val)"
   ]
  },
  {
   "cell_type": "code",
   "execution_count": 6,
   "id": "ce2cae57",
   "metadata": {},
   "outputs": [
    {
     "name": "stdout",
     "output_type": "stream",
     "text": [
      "Y\n",
      "u\n",
      "s\n",
      "u\n",
      "p\n",
      " \n",
      "H\n",
      "i\n",
      "d\n",
      "a\n",
      "y\n",
      "a\n",
      "t\n",
      " \n",
      "W\n",
      "i\n",
      "n\n",
      "a\n",
      "t\n",
      "a\n"
     ]
    }
   ],
   "source": [
    "for i in 'Yusup Hidayat Winata':\n",
    "    print(i)"
   ]
  },
  {
   "cell_type": "code",
   "execution_count": 7,
   "id": "89d92519",
   "metadata": {},
   "outputs": [
    {
     "name": "stdout",
     "output_type": "stream",
     "text": [
      "merah jingga kuning hijau biru nila ungu "
     ]
    }
   ],
   "source": [
    "colors = ['merah', 'jingga', 'kuning', 'hijau', 'biru', 'nila', 'ungu']\n",
    "\n",
    "for color in colors:\n",
    "    print(color, end=' ')"
   ]
  },
  {
   "cell_type": "code",
   "execution_count": 8,
   "id": "5a8c0307",
   "metadata": {},
   "outputs": [
    {
     "name": "stdout",
     "output_type": "stream",
     "text": [
      "1 4 9 2 5 8 7 "
     ]
    }
   ],
   "source": [
    "numbers = [1, 4, 9, 2, 5, 8, 7]\n",
    "\n",
    "for number in numbers:\n",
    "    print(number, end=' ')"
   ]
  },
  {
   "cell_type": "code",
   "execution_count": 9,
   "id": "00aa6641",
   "metadata": {},
   "outputs": [
    {
     "name": "stdout",
     "output_type": "stream",
     "text": [
      "apple\n",
      "mango\n",
      "banana\n",
      "orange\n",
      "mangosteen\n"
     ]
    }
   ],
   "source": [
    "fruits = {'apple':5, 'mango':10, 'banana':3, 'orange':6, 'mangosteen':15}\n",
    "\n",
    "for fruit in fruits:\n",
    "    print(fruit)"
   ]
  },
  {
   "cell_type": "code",
   "execution_count": 10,
   "id": "4e2d48c6",
   "metadata": {},
   "outputs": [
    {
     "name": "stdout",
     "output_type": "stream",
     "text": [
      "Stokapple\t= 5\n",
      "Stokmango\t= 10\n",
      "Stokbanana\t= 3\n",
      "Stokorange\t= 6\n",
      "Stokmangosteen\t= 15\n"
     ]
    }
   ],
   "source": [
    "fruits = {'apple':5, 'mango':10, 'banana':3, 'orange':6, 'mangosteen':15}\n",
    "\n",
    "for fruit in fruits:\n",
    "    print(f'Stok {fruit}\\t= {fruits[fruit]}')"
   ]
  },
  {
   "cell_type": "code",
   "execution_count": 11,
   "id": "8a05fcef",
   "metadata": {},
   "outputs": [
    {
     "name": "stdout",
     "output_type": "stream",
     "text": [
      "Total nilai\t= 460\n",
      "Rata - rata nilai\t= 76.66666666666667\n"
     ]
    }
   ],
   "source": [
    "scores = [90, 80, 70 , 60, 75, 85]\n",
    "total_scores = 0\n",
    "\n",
    "for score in scores:\n",
    "    total_scores = total_scores + score \n",
    "    \n",
    "average = total_scores/len(scores)\n",
    "\n",
    "print('Total nilai\\t=', total_scores)\n",
    "print('Rata - rata nilai\\t=', average)"
   ]
  },
  {
   "cell_type": "code",
   "execution_count": 12,
   "id": "3aa54509",
   "metadata": {},
   "outputs": [
    {
     "name": "stdout",
     "output_type": "stream",
     "text": [
      "('apple', 5, 2500)\n",
      "('mango', 10, 3000)\n",
      "('banana', 3, 5000)\n",
      "('orange', 6, 2000)\n",
      "('mangosteen', 15, 4000)\n"
     ]
    }
   ],
   "source": [
    "buah = 'apple', 'mango', 'banana', 'orange', 'mangosteen'\n",
    "jumlah = 5, 10, 3, 6, 15\n",
    "harga = 2500, 3000, 5000, 2000, 4000 \n",
    "\n",
    "for item in zip(buah, jumlah, harga):\n",
    "    print(item)"
   ]
  },
  {
   "cell_type": "code",
   "execution_count": 14,
   "id": "d2fea8ea",
   "metadata": {},
   "outputs": [
    {
     "name": "stdout",
     "output_type": "stream",
     "text": [
      "Harga apple adalah Rp 2500, sisa stok = 5\n",
      "Harga mango adalah Rp 3000, sisa stok = 10\n",
      "Harga banana adalah Rp 5000, sisa stok = 3\n",
      "Harga orange adalah Rp 2000, sisa stok = 6\n",
      "Harga mangosteen adalah Rp 4000, sisa stok = 15\n"
     ]
    }
   ],
   "source": [
    "buah = 'apple', 'mango', 'banana', 'orange', 'mangosteen'\n",
    "jumlah = 5, 10, 3, 6, 15\n",
    "harga = 2500, 3000, 5000, 2000, 4000 \n",
    "\n",
    "for fruit, count, price in zip (buah, jumlah, harga):\n",
    "    print(f'Harga {fruit} adalah Rp {price}, sisa stok = {count}')"
   ]
  },
  {
   "cell_type": "code",
   "execution_count": 16,
   "id": "65aca623",
   "metadata": {},
   "outputs": [
    {
     "name": "stdout",
     "output_type": "stream",
     "text": [
      "Harga apple adalah Rp 2500, sisa stok = 5\n",
      "Harga mango adalah Rp 3000, sisa stok = 10\n",
      "Harga banana adalah Rp 5000, sisa stok = 3\n",
      "Harga orange adalah Rp 2000, sisa stok = 6\n",
      "Harga mangosteen adalah Rp 4000, sisa stok = 15\n",
      "\n",
      "Total aset yang dimiliki = Rp129500\n",
      "Aset per item =  [12500, 30000, 15000, 12000, 60000]\n"
     ]
    }
   ],
   "source": [
    "buah = 'apple', 'mango', 'banana', 'orange', 'mangosteen'\n",
    "jumlah = 5, 10, 3, 6, 15\n",
    "harga = 2500, 3000, 5000, 2000, 4000 \n",
    "total_aset = 0\n",
    "aset = []\n",
    "\n",
    "for fruit, count, price in zip (buah, jumlah, harga):\n",
    "    print(f'Harga {fruit} adalah Rp {price}, sisa stok = {count}')\n",
    "    total_aset += (price * count)\n",
    "    aset_satuan = price * count\n",
    "    aset.append(aset_satuan)\n",
    "    \n",
    "print(f'\\nTotal aset yang dimiliki = Rp{total_aset}')\n",
    "print('Aset per item = ', aset)"
   ]
  },
  {
   "cell_type": "code",
   "execution_count": 18,
   "id": "b6859a18",
   "metadata": {},
   "outputs": [
    {
     "name": "stdout",
     "output_type": "stream",
     "text": [
      "Iterasi ke-1\n",
      "Iterasi ke-2\n",
      "Iterasi ke-3\n",
      "Iterasi ke-4\n",
      "Iterasi ke-5\n",
      "Iterasi ke-6\n",
      "Iterasi ke-7\n",
      "Iterasi ke-8\n",
      "Iterasi ke-9\n",
      "Iterasi ke-10\n"
     ]
    }
   ],
   "source": [
    "for i in range(1, 11):\n",
    "    print(f'Iterasi ke-{i}')"
   ]
  },
  {
   "cell_type": "code",
   "execution_count": 19,
   "id": "ece03da8",
   "metadata": {},
   "outputs": [
    {
     "name": "stdout",
     "output_type": "stream",
     "text": [
      "Iterasi ke--11\n",
      "Iterasi ke--10\n",
      "Iterasi ke--9\n",
      "Iterasi ke--8\n",
      "Iterasi ke--7\n",
      "Iterasi ke--6\n",
      "Iterasi ke--5\n",
      "Iterasi ke--4\n",
      "Iterasi ke--3\n",
      "Iterasi ke--2\n",
      "Iterasi ke--1\n",
      "Iterasi ke-0\n"
     ]
    }
   ],
   "source": [
    "for i in range(-11, 1):\n",
    "    print(f'Iterasi ke-{i}')"
   ]
  },
  {
   "cell_type": "code",
   "execution_count": 20,
   "id": "fdf45320",
   "metadata": {},
   "outputs": [
    {
     "name": "stdout",
     "output_type": "stream",
     "text": [
      "[0, 1, 2, 3, 4, 5]\n"
     ]
    }
   ],
   "source": [
    "numbers = [10, 20, 30, 40, 50, 60]\n",
    "\n",
    "for i in range(0, len(numbers)):\n",
    "    numbers[i] = i\n",
    "    \n",
    "print(numbers)"
   ]
  },
  {
   "cell_type": "code",
   "execution_count": 21,
   "id": "6118de5a",
   "metadata": {},
   "outputs": [
    {
     "name": "stdout",
     "output_type": "stream",
     "text": [
      "0 0\t0 1\t0 2\t\n",
      "\n",
      "1 0\t1 1\t1 2\t\n",
      "\n",
      "2 0\t2 1\t2 2\t\n",
      "\n"
     ]
    }
   ],
   "source": [
    " for i in range(0,3):\n",
    "        for j in range (0, 3):\n",
    "            print(i, j, end='\\t')\n",
    "        print('\\n')"
   ]
  },
  {
   "cell_type": "code",
   "execution_count": 5,
   "id": "4dc77424",
   "metadata": {},
   "outputs": [
    {
     "name": "stdout",
     "output_type": "stream",
     "text": [
      "[7 1 9]\n",
      "[8 6 5]\n",
      "[2 4 3]\n"
     ]
    }
   ],
   "source": [
    "import numpy as np\n",
    "\n",
    "data = np.array([[7, 1, 9],\n",
    "                [8, 6, 5],\n",
    "                [2, 4, 3]])\n",
    "\n",
    "for i in data:\n",
    "    print(i)"
   ]
  },
  {
   "cell_type": "code",
   "execution_count": 24,
   "id": "c26bc499",
   "metadata": {},
   "outputs": [
    {
     "name": "stdout",
     "output_type": "stream",
     "text": [
      "7 1 9 8 6 5 2 4 3 "
     ]
    }
   ],
   "source": [
    "data = np.array([[7, 1, 9],\n",
    "                [8, 6, 5],\n",
    "                [2, 4, 3]])\n",
    "\n",
    "for baris in data:\n",
    "    for kolom in baris:\n",
    "        print(kolom, end=' ')"
   ]
  },
  {
   "cell_type": "code",
   "execution_count": 25,
   "id": "c9da80c7",
   "metadata": {},
   "outputs": [
    {
     "name": "stdout",
     "output_type": "stream",
     "text": [
      "7 1 9 8 6 5 2 4 3 "
     ]
    }
   ],
   "source": [
    "data = np.array([[7, 1, 9],\n",
    "                [8, 6, 5],\n",
    "                [2, 4, 3]])\n",
    "\n",
    "for i in range(0, data.shape[0]):\n",
    "    for j in range(0, data.shape[1]):\n",
    "        print(data[i, j], end=' ')"
   ]
  },
  {
   "cell_type": "code",
   "execution_count": 27,
   "id": "7a31d618",
   "metadata": {},
   "outputs": [
    {
     "name": "stdout",
     "output_type": "stream",
     "text": [
      "[0, 1, 2, 3, 4, 5, 6, 7, 8, 9]\n"
     ]
    }
   ],
   "source": [
    "bilangan = [0, 1, 2, 3, 4, 5, 6, 7, 8, 9]\n",
    "nums = []\n",
    "\n",
    "for bil in bilangan:\n",
    "    nums.append(bil)\n",
    "    \n",
    "print(nums)"
   ]
  },
  {
   "cell_type": "code",
   "execution_count": 28,
   "id": "ddd598d7",
   "metadata": {},
   "outputs": [
    {
     "name": "stdout",
     "output_type": "stream",
     "text": [
      "[0, 1, 2, 3, 4, 5, 6, 7, 8, 9]\n"
     ]
    }
   ],
   "source": [
    "bilangan = [0, 1, 2, 3, 4, 5, 6, 7, 8, 9]\n",
    "nums = [bil for bil in bilangan]\n",
    "print(nums)"
   ]
  },
  {
   "cell_type": "code",
   "execution_count": 29,
   "id": "9f722f44",
   "metadata": {},
   "outputs": [
    {
     "name": "stdout",
     "output_type": "stream",
     "text": [
      "[1, 3, 5, 7, 9, 11, 13, 15, 17, 19]\n"
     ]
    }
   ],
   "source": [
    "bilangan = [0, 1, 2, 3, 4, 5, 6, 7, 8, 9]\n",
    "nums = [bil*2+1 for bil in bilangan]\n",
    "print(nums)"
   ]
  },
  {
   "cell_type": "code",
   "execution_count": 31,
   "id": "fe1d1b4e",
   "metadata": {},
   "outputs": [
    {
     "name": "stdout",
     "output_type": "stream",
     "text": [
      "[0, 2, 4, 6, 8]\n"
     ]
    }
   ],
   "source": [
    "bilangan = [0, 1, 2, 3, 4, 5, 6, 7, 8, 9]\n",
    "nums = [bil for bil in bilangan if bil%2 == 0]\n",
    "print(nums)"
   ]
  },
  {
   "cell_type": "code",
   "execution_count": 33,
   "id": "009d49dc",
   "metadata": {},
   "outputs": [
    {
     "name": "stdout",
     "output_type": "stream",
     "text": [
      "1 2 3 4 6 7 8 9 10 "
     ]
    }
   ],
   "source": [
    "for i in range(1, 11):\n",
    "    if i == 5:\n",
    "        continue\n",
    "    print(i, end=' ')"
   ]
  },
  {
   "cell_type": "code",
   "execution_count": 34,
   "id": "c04185ff",
   "metadata": {},
   "outputs": [
    {
     "name": "stdout",
     "output_type": "stream",
     "text": [
      "1 2 3 4 "
     ]
    }
   ],
   "source": [
    "for i in range(1, 11):\n",
    "    if i == 5:\n",
    "        break\n",
    "    print(i, end=' ')"
   ]
  },
  {
   "cell_type": "code",
   "execution_count": 1,
   "id": "72e60eca",
   "metadata": {},
   "outputs": [
    {
     "name": "stdout",
     "output_type": "stream",
     "text": [
      "data\t\t:  [91, 20, 12, 87, 19, 11, 34, 47, 68, 56]\n",
      "data ganjil\t:  [91, 87, 19, 11, 47]\n",
      "data genap\t:  [20, 12, 34, 68, 56]\n"
     ]
    }
   ],
   "source": [
    "numbers = [91, 20, 12 , 87, 19, 11, 34, 47, 68, 56]\n",
    "genap = []\n",
    "ganjil = []\n",
    "\n",
    "for number in numbers:\n",
    "    if number%2 == 0:\n",
    "        genap.append(number)\n",
    "    else:\n",
    "        ganjil.append(number)\n",
    "        \n",
    "print('data\\t\\t: ', numbers)\n",
    "print('data ganjil\\t: ', ganjil)\n",
    "print('data genap\\t: ', genap)"
   ]
  },
  {
   "cell_type": "code",
   "execution_count": 2,
   "id": "b61f3d7d",
   "metadata": {},
   "outputs": [
    {
     "name": "stdout",
     "output_type": "stream",
     "text": [
      "\n",
      "1. hitung luas persegi\n",
      "2. hitung luas lingkaran\n",
      "3. exit\n",
      "Input menu pilihan Anda : 1\n",
      "\n",
      "Input sisi persegi: 2\n",
      "Luas persegi adalah 4.0 cm\n",
      "\n",
      "1. hitung luas persegi\n",
      "2. hitung luas lingkaran\n",
      "3. exit\n",
      "Input menu pilihan Anda : 3\n",
      "\n",
      "Terimakasih sudah menggunakan program ini :\n"
     ]
    }
   ],
   "source": [
    "while True:\n",
    "    print('\\n1. hitung luas persegi')\n",
    "    print('2. hitung luas lingkaran')\n",
    "    print('3. exit')\n",
    "    menu = int(input('Input menu pilihan Anda : '))\n",
    "\n",
    "    if menu == 1:\n",
    "        s = float(input('\\nInput sisi persegi: '))\n",
    "        print(f'Luas persegi adalah {s*s} cm')\n",
    "    elif menu == 2:\n",
    "        r = float(input('\\ninput sisi persegi: '))\n",
    "        print(f'Luas lingkaran adalah {3.14*r*r} cm')\n",
    "    elif menu == 3:\n",
    "        print('\\nTerimakasih sudah menggunakan program ini :')\n",
    "        break\n",
    "    else:\n",
    "        print('\\nMaaf, menu tidak tersedia')\n"
   ]
  },
  {
   "cell_type": "code",
   "execution_count": 4,
   "id": "29e04a68",
   "metadata": {},
   "outputs": [
    {
     "name": "stdout",
     "output_type": "stream",
     "text": [
      "Berat Badan dalam kg= 67\n",
      "Tinggi Badan dalam cm= 169\n",
      " Kelebihan Berat Badan \n"
     ]
    }
   ],
   "source": [
    "bb = int(input('Berat Badan dalam kg= ')) \n",
    "tb = int(input('Tinggi Badan dalam cm= '))\n",
    "tbm = tb /100\n",
    "BMI = bb / tbm**2\n",
    "\n",
    "if BMI < 18.5:\n",
    "    print('Kurang Berat Badan')\n",
    "elif BMI >= 18.5 and BMI < 23:\n",
    "    print(' Normal ')\n",
    "elif BMI >= 23 and BMI < 25:\n",
    "    print(' Kelebihan Berat Badan ')\n",
    "elif BMI >= 18.5 and BMI < 30:\n",
    "    print(' Obesitas Tingkat 1 ')\n",
    "elif BMI >= 30:\n",
    "    print(' Obesitas Tingkat 2 ')"
   ]
  },
  {
   "cell_type": "code",
   "execution_count": 11,
   "id": "e4758269",
   "metadata": {},
   "outputs": [
    {
     "name": "stdout",
     "output_type": "stream",
     "text": [
      "Input Angka = 1\n",
      "Input Angka = 2\n",
      "Input Angka = 3\n",
      "Input Angka = 4\n",
      "Input Angka = 5\n",
      "Input Angka = 6\n",
      "Input Angka = 7\n",
      "Input Angka = 0\n",
      "Rata - rata semua angka =  4.0\n"
     ]
    }
   ],
   "source": [
    "arr = []\n",
    "\n",
    "while True:\n",
    "    data = int(input('Input Angka = '))\n",
    "    if data == 0:\n",
    "        print(\"Rata - rata semua angka = \", np.mean(arr))\n",
    "        break\n",
    "    else:\n",
    "        arr.append(data)"
   ]
  },
  {
   "cell_type": "code",
   "execution_count": 10,
   "id": "7a9c764c",
   "metadata": {},
   "outputs": [
    {
     "name": "stdout",
     "output_type": "stream",
     "text": [
      "Grade A :  [86, 86, 88, 81]\n",
      "Grade B :  [73, 74, 71, 79]\n",
      "Grade C :  [67, 52, 50, 61, 67]\n",
      "Grade D :  [46, 41, 43, 47, 45]\n",
      "Grade E :  [11, 17, 39, 20]\n",
      "Nilai tidak valid :  [-12, 101, -1]\n"
     ]
    }
   ],
   "source": [
    "total_nilai = [67, 46, 52, -12, 50, 73, 11, 61, 101, 41, 86, 86, 74, 88, 43, 67, 71, 47, 81, 45, 17, -1, 39, 20, 79]\n",
    "a = []\n",
    "b = []\n",
    "c = []\n",
    "d = []\n",
    "e = []\n",
    "nvld = []\n",
    "for nilai in total_nilai:\n",
    "    if nilai < 0 or nilai > 100:\n",
    "        nvld.append(nilai)\n",
    "    elif nilai >= 80 and nilai <= 100:\n",
    "        a.append(nilai)\n",
    "    elif nilai >= 70 and nilai <= 79:\n",
    "        b.append(nilai)\n",
    "    elif nilai >= 50 and nilai <= 69:\n",
    "        c.append(nilai)\n",
    "    elif nilai >= 40 and nilai <= 49:\n",
    "        d.append(nilai)\n",
    "    elif nilai >= 0 and nilai <= 39:\n",
    "        e.append(nilai)\n",
    "\n",
    "    \n",
    "print(\"Grade A : \", a)\n",
    "print(\"Grade B : \", b)\n",
    "print(\"Grade C : \", c)\n",
    "print(\"Grade D : \", d)\n",
    "print(\"Grade E : \", e)\n",
    "print(\"Nilai tidak valid : \", nvld)"
   ]
  },
  {
   "cell_type": "code",
   "execution_count": null,
   "id": "7c965386",
   "metadata": {},
   "outputs": [],
   "source": []
  }
 ],
 "metadata": {
  "kernelspec": {
   "display_name": "Python 3 (ipykernel)",
   "language": "python",
   "name": "python3"
  },
  "language_info": {
   "codemirror_mode": {
    "name": "ipython",
    "version": 3
   },
   "file_extension": ".py",
   "mimetype": "text/x-python",
   "name": "python",
   "nbconvert_exporter": "python",
   "pygments_lexer": "ipython3",
   "version": "3.9.12"
  }
 },
 "nbformat": 4,
 "nbformat_minor": 5
}
