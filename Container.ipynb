{
 "cells": [
  {
   "cell_type": "code",
   "execution_count": null,
   "id": "96079b90",
   "metadata": {},
   "outputs": [],
   "source": [
    "#List"
   ]
  },
  {
   "cell_type": "code",
   "execution_count": 27,
   "id": "d5a400a9",
   "metadata": {},
   "outputs": [
    {
     "name": "stdout",
     "output_type": "stream",
     "text": [
      "['merah', 'jingga', 'kuning', 'hijau', 'biru', 'nila', 'ungu']\n"
     ]
    },
    {
     "data": {
      "text/plain": [
       "list"
      ]
     },
     "execution_count": 27,
     "metadata": {},
     "output_type": "execute_result"
    }
   ],
   "source": [
    "#Membuat List\n",
    "warna = ['merah', 'jingga', 'kuning', 'hijau', 'biru', 'nila', 'ungu']\n",
    "bulat = [10, 25, 67, -81, 93, -1]\n",
    "desimal = [3.6, 1.2, 9.5, 7.6, 4.2]\n",
    "kondisi = [True, True, True, False, False]\n",
    "print (warna)\n",
    "type(warna)"
   ]
  },
  {
   "cell_type": "code",
   "execution_count": 28,
   "id": "69db6172",
   "metadata": {},
   "outputs": [
    {
     "name": "stdout",
     "output_type": "stream",
     "text": [
      "[10, 25, 67, -81, 93, -1]\n",
      "[3.6, 1.2, 9.5, 7.6, 4.2]\n",
      "[True, True, True, False, False]\n"
     ]
    }
   ],
   "source": [
    "print(bulat)\n",
    "print(desimal)\n",
    "print(kondisi)"
   ]
  },
  {
   "cell_type": "code",
   "execution_count": 29,
   "id": "d571badc",
   "metadata": {},
   "outputs": [
    {
     "name": "stdout",
     "output_type": "stream",
     "text": [
      "['Laskar Pelangi', 'Andrea Hirata', 2008, 529, 5.56, True]\n"
     ]
    }
   ],
   "source": [
    "novel = ['Laskar Pelangi', 'Andrea Hirata', 2008, 529, 5.56, True]\n",
    "print(novel)"
   ]
  },
  {
   "cell_type": "code",
   "execution_count": 30,
   "id": "6c2a3523",
   "metadata": {},
   "outputs": [
    {
     "name": "stdout",
     "output_type": "stream",
     "text": [
      "[[1, 0, 1], [0, 1, 0], [1, 0, 1]]\n"
     ]
    }
   ],
   "source": [
    "pixel = [[1,0,1],\n",
    "         [0,1,0],\n",
    "         [1,0,1]\n",
    "        ]\n",
    "print(pixel)"
   ]
  },
  {
   "cell_type": "code",
   "execution_count": 31,
   "id": "796c72ec",
   "metadata": {},
   "outputs": [
    {
     "name": "stdout",
     "output_type": "stream",
     "text": [
      "[['Jakarta', 5, 664.01], ['Banjarmasin', 98.46], ['Lampung'], ['Jayapura', 5, 626.7], ['Makassar', 15]]\n"
     ]
    }
   ],
   "source": [
    "kota = [['Jakarta', 5, 664.01],\n",
    "        ['Banjarmasin', 98.46],\n",
    "        ['Lampung'],\n",
    "        ['Jayapura', 5, 626.7],\n",
    "        ['Makassar', 15]]\n",
    "print(kota)"
   ]
  },
  {
   "cell_type": "code",
   "execution_count": 32,
   "id": "99dae51a",
   "metadata": {},
   "outputs": [
    {
     "name": "stdout",
     "output_type": "stream",
     "text": [
      "[]\n"
     ]
    },
    {
     "data": {
      "text/plain": [
       "list"
      ]
     },
     "execution_count": 32,
     "metadata": {},
     "output_type": "execute_result"
    }
   ],
   "source": [
    "word = []\n",
    "print(word)\n",
    "type(word)"
   ]
  },
  {
   "cell_type": "code",
   "execution_count": 35,
   "id": "b43a267c",
   "metadata": {},
   "outputs": [
    {
     "name": "stdout",
     "output_type": "stream",
     "text": [
      "7\n",
      "6\n",
      "5\n",
      "5\n",
      "6\n",
      "0\n"
     ]
    }
   ],
   "source": [
    "print(len(warna))\n",
    "print(len(bulat))\n",
    "print(len(desimal))\n",
    "print(len(kondisi))\n",
    "print(len(novel))\n",
    "print(len(word))"
   ]
  },
  {
   "cell_type": "code",
   "execution_count": 36,
   "id": "065ff9cf",
   "metadata": {},
   "outputs": [
    {
     "name": "stdout",
     "output_type": "stream",
     "text": [
      "jingga\n",
      "-81\n",
      "4.2\n",
      "True\n",
      "Laskar Pelangi\n",
      "ungu\n",
      "93\n",
      "9.5\n",
      "True\n",
      "Andrea Hirata\n",
      "warna = ['merah', 'jingga', 'kuning', 'hijau', 'biru', 'nila', 'ungu']\n",
      "warna = ['RED', 'jingga', 'kuning', 'GREEN', 'BLUE', 'nila', 'ungu']\n"
     ]
    }
   ],
   "source": [
    "#List Indexing & Slicing\n",
    "warna = ['merah', 'jingga', 'kuning', 'hijau', 'biru', 'nila', 'ungu']\n",
    "bulat = [10, 25, 67, -81, 93, -1]\n",
    "desimal = [3.6, 1.2, 9.5, 7.6, 4.2]\n",
    "kondisi = [True, True, True, False, False]\n",
    "novel = ['Laskar Pelangi', 'Andrea Hirata', 2008, 529, 5.56, True]\n",
    "\n",
    "print(warna[1])\n",
    "print(bulat[3])\n",
    "print(desimal[4])\n",
    "print(kondisi[2])\n",
    "print(novel[0])\n",
    "\n",
    "print(warna[-1])\n",
    "print(bulat[-2])\n",
    "print(desimal[-3])\n",
    "print(kondisi[-4])\n",
    "print(novel[-5])\n",
    "\n",
    "print(f\"warna = {warna}\")\n",
    "\n",
    "warna[0] = 'RED'\n",
    "warna[3] = 'GREEN'\n",
    "warna[-3] = 'BLUE'\n",
    "\n",
    "print(f\"warna = {warna}\")"
   ]
  },
  {
   "cell_type": "code",
   "execution_count": 8,
   "id": "21f1822c",
   "metadata": {},
   "outputs": [
    {
     "name": "stdout",
     "output_type": "stream",
     "text": [
      "ungu\n",
      "d\n",
      "0.6\n",
      "sakit\n",
      "jika kita tak pernah jatuh cinta\n"
     ]
    }
   ],
   "source": [
    "print(warna[-1])\n",
    "print(bulat[-2])\n",
    "print(desimal[-3])\n",
    "print(kondisi[-4])\n",
    "print(novel[-5])"
   ]
  },
  {
   "cell_type": "code",
   "execution_count": 9,
   "id": "88ecd50e",
   "metadata": {},
   "outputs": [
    {
     "name": "stdout",
     "output_type": "stream",
     "text": [
      "warna = ['RED', 'jingga', 'kuning', 'GREEN', 'BLUE', 'nila', 'ungu']\n",
      "warna = ['RED', 'jingga', 'kuning', 'GREEN', 'BLUE', 'nila', 'ungu']\n"
     ]
    }
   ],
   "source": [
    "print(f\"warna = {warna}\")\n",
    "warna[0] = 'RED'\n",
    "warna[3] = 'GREEN'\n",
    "warna[-3] = 'BLUE'\n",
    "\n",
    "print(f\"warna = {warna}\")"
   ]
  },
  {
   "cell_type": "code",
   "execution_count": 10,
   "id": "9e06afd1",
   "metadata": {},
   "outputs": [
    {
     "name": "stdout",
     "output_type": "stream",
     "text": [
      "['kuning', 'GREEN', 'BLUE']\n",
      "['b', 'c']\n",
      "['0.6', '0.7', '0.8']\n",
      "['sehat', 'sakit', 'lelah', 'fit']\n",
      "['jika kita tak pernah jatuh cinta', 'loneliness']\n"
     ]
    }
   ],
   "source": [
    "print(warna[2:5])\n",
    "print(bulat[1:3])\n",
    "print(desimal[2:5])\n",
    "print(kondisi[0:4])\n",
    "print(novel[-5:-3])"
   ]
  },
  {
   "cell_type": "code",
   "execution_count": 11,
   "id": "2a8a29c9",
   "metadata": {},
   "outputs": [
    {
     "name": "stdout",
     "output_type": "stream",
     "text": [
      "['RED', 'jingga', 'kuning', 'GREEN', 'BLUE', 'nila', 'ungu'] \n",
      "\n",
      "['GREEN', 'BLUE', 'nila', 'ungu'] \n",
      "\n",
      "['RED', 'jingga', 'kuning'] \n",
      "\n",
      "['kuning', 'GREEN', 'BLUE', 'nila', 'ungu'] \n",
      "\n",
      "['RED', 'jingga'] \n",
      "\n"
     ]
    }
   ],
   "source": [
    "print(warna, '\\n')\n",
    "\n",
    "print(warna[3:], '\\n')\n",
    "print(warna[:3], '\\n')\n",
    "\n",
    "print(warna[-5:], '\\n')\n",
    "print(warna[:-5], '\\n')"
   ]
  },
  {
   "cell_type": "code",
   "execution_count": 12,
   "id": "717bf0bc",
   "metadata": {},
   "outputs": [
    {
     "name": "stdout",
     "output_type": "stream",
     "text": [
      "['cerah']\n",
      "['cerah', 'berawan', 'hujan ringan', 'hujan lebat', 'berangin']\n"
     ]
    }
   ],
   "source": [
    "#Manipulasi Elemen List\n",
    "cuaca = ['cerah']\n",
    "print(cuaca)\n",
    "\n",
    "cuaca.append('berawan')\n",
    "cuaca.append('hujan ringan')\n",
    "cuaca.append('hujan lebat')\n",
    "cuaca.append('berangin')\n",
    "\n",
    "print(cuaca)"
   ]
  },
  {
   "cell_type": "code",
   "execution_count": 13,
   "id": "b95e8461",
   "metadata": {},
   "outputs": [
    {
     "data": {
      "text/plain": [
       "[1, 2, 3, 'a', 'b', 'c']"
      ]
     },
     "execution_count": 13,
     "metadata": {},
     "output_type": "execute_result"
    }
   ],
   "source": [
    "angka = [1,2,3]\n",
    "huruf = ['a', 'b', 'c']\n",
    "alphanumeric = angka + huruf\n",
    "alphanumeric"
   ]
  },
  {
   "cell_type": "code",
   "execution_count": 18,
   "id": "3fa1b4f2",
   "metadata": {},
   "outputs": [
    {
     "data": {
      "text/plain": [
       "True"
      ]
     },
     "execution_count": 18,
     "metadata": {},
     "output_type": "execute_result"
    }
   ],
   "source": [
    "'cerah' in cuaca"
   ]
  },
  {
   "cell_type": "code",
   "execution_count": 19,
   "id": "86882fbf",
   "metadata": {},
   "outputs": [
    {
     "data": {
      "text/plain": [
       "False"
      ]
     },
     "execution_count": 19,
     "metadata": {},
     "output_type": "execute_result"
    }
   ],
   "source": [
    "'panas' in cuaca"
   ]
  },
  {
   "cell_type": "code",
   "execution_count": 20,
   "id": "0031b412",
   "metadata": {},
   "outputs": [
    {
     "data": {
      "text/plain": [
       "True"
      ]
     },
     "execution_count": 20,
     "metadata": {},
     "output_type": "execute_result"
    }
   ],
   "source": [
    "'dingin' not in cuaca"
   ]
  },
  {
   "cell_type": "code",
   "execution_count": 21,
   "id": "b7c3c818",
   "metadata": {},
   "outputs": [
    {
     "data": {
      "text/plain": [
       "False"
      ]
     },
     "execution_count": 21,
     "metadata": {},
     "output_type": "execute_result"
    }
   ],
   "source": [
    "'berawan' not in cuaca"
   ]
  },
  {
   "cell_type": "code",
   "execution_count": 22,
   "id": "dd0e434e",
   "metadata": {},
   "outputs": [
    {
     "data": {
      "text/plain": [
       "3"
      ]
     },
     "execution_count": 22,
     "metadata": {},
     "output_type": "execute_result"
    }
   ],
   "source": [
    "cuaca.index('hujan lebat')"
   ]
  },
  {
   "cell_type": "code",
   "execution_count": 23,
   "id": "b7c95a02",
   "metadata": {},
   "outputs": [
    {
     "data": {
      "text/plain": [
       "2"
      ]
     },
     "execution_count": 23,
     "metadata": {},
     "output_type": "execute_result"
    }
   ],
   "source": [
    "cuaca.index('hujan ringan')"
   ]
  },
  {
   "cell_type": "code",
   "execution_count": 24,
   "id": "c8d85a75",
   "metadata": {},
   "outputs": [
    {
     "name": "stdout",
     "output_type": "stream",
     "text": [
      "[-2, -1, -0.75, 0.5, 4, 10, 50]\n",
      "['Agung', 'Bagus', 'Tini', 'ani', 'bernard', 'toriq']\n",
      "['Agung', 'ani', 'bernard', 'Bagus', 'Tini', 'toriq']\n"
     ]
    }
   ],
   "source": [
    "temp = [10, -2, 0.5, -0.75, 50, 4, -1]\n",
    "nama = ['Agung', 'ani', 'bernard', 'Bagus', 'Tini', 'toriq']\n",
    "\n",
    "temp.sort()\n",
    "print(temp)\n",
    "\n",
    "print(sorted(nama))\n",
    "print(nama)"
   ]
  },
  {
   "cell_type": "code",
   "execution_count": 1,
   "id": "37ef4127",
   "metadata": {},
   "outputs": [
    {
     "name": "stdout",
     "output_type": "stream",
     "text": [
      "[50, 10, 4, 0.5, -0.75, -1, -2]\n",
      "['toriq', 'bernard', 'ani', 'Tini', 'Bagus', 'Agung']\n",
      "['Agung', 'ani', 'bernard', 'Bagus', 'Tini', 'toriq']\n"
     ]
    }
   ],
   "source": [
    "temp = [10, -2, 0.5, -0.75, 50, 4, -1]\n",
    "nama = ['Agung', 'ani', 'bernard', 'Bagus', 'Tini', 'toriq']\n",
    "\n",
    "temp.sort(reverse=True)\n",
    "print(temp)\n",
    "\n",
    "print(sorted(nama, reverse=True))\n",
    "print(nama)"
   ]
  },
  {
   "cell_type": "code",
   "execution_count": 2,
   "id": "405d660f",
   "metadata": {},
   "outputs": [
    {
     "name": "stdout",
     "output_type": "stream",
     "text": [
      "['cat', 'dog', 'rabbit', 'fish', 'turtle', 'hamster', 'bird']\n",
      "['cat', 'dog', 'rabbit', 'turtle', 'hamster', 'bird']\n",
      "['cat', 'rabbit', 'turtle', 'hamster', 'bird']\n",
      "[]\n"
     ]
    }
   ],
   "source": [
    "pets = ['cat', 'dog', 'rabbit', 'fish', 'turtle', 'hamster', 'bird']\n",
    "print(pets)\n",
    "\n",
    "del pets[3]\n",
    "print(pets)\n",
    "\n",
    "pets.remove('dog')\n",
    "print(pets)\n",
    "\n",
    "pets.clear()\n",
    "print(pets)"
   ]
  },
  {
   "cell_type": "code",
   "execution_count": 3,
   "id": "5867529d",
   "metadata": {},
   "outputs": [
    {
     "name": "stdout",
     "output_type": "stream",
     "text": [
      "['dammam', 'frontera', 'nurion', 'pangea', 'param']\n",
      "['dammam', 'frontera', 'nurion', 'pangea', 'param']\n"
     ]
    }
   ],
   "source": [
    "class_ori = ['dammam', 'frontera', 'nurion', 'pangea', 'param']\n",
    "class_salin = class_ori\n",
    "\n",
    "print(class_ori)\n",
    "print(class_salin)"
   ]
  },
  {
   "cell_type": "code",
   "execution_count": 4,
   "id": "2d15ebb4",
   "metadata": {},
   "outputs": [
    {
     "name": "stdout",
     "output_type": "stream",
     "text": [
      "['frontera', 'nurion', 'pangea', 'param', 'maru']\n",
      "['frontera', 'nurion', 'pangea', 'param', 'maru']\n"
     ]
    }
   ],
   "source": [
    "class_ori.remove('dammam')\n",
    "class_salin.append('maru')\n",
    "\n",
    "print(class_ori)\n",
    "print(class_salin)"
   ]
  },
  {
   "cell_type": "code",
   "execution_count": 6,
   "id": "906c6b3d",
   "metadata": {},
   "outputs": [
    {
     "name": "stdout",
     "output_type": "stream",
     "text": [
      "ori : ['dammam', 'frontera', 'nurion', 'pangea', 'param']\n",
      "salinan : ['dammam', 'frontera', 'nurion', 'pangea', 'param'] \n",
      "\n",
      "ori : ['frontera', 'nurion', 'pangea', 'param']\n",
      "salinan : ['dammam', 'frontera', 'nurion', 'pangea', 'param', 'maru'] \n",
      "\n"
     ]
    }
   ],
   "source": [
    "class_ori = ['dammam', 'frontera', 'nurion', 'pangea', 'param']\n",
    "class_salin = class_ori.copy()\n",
    "\n",
    "print('ori :', class_ori)\n",
    "print('salinan :', class_salin, '\\n')\n",
    "\n",
    "class_ori.remove('dammam')\n",
    "class_salin.append('maru')\n",
    "\n",
    "print('ori :', class_ori)\n",
    "print('salinan :', class_salin, '\\n')"
   ]
  },
  {
   "cell_type": "code",
   "execution_count": 7,
   "id": "3899a5c7",
   "metadata": {},
   "outputs": [
    {
     "name": "stdout",
     "output_type": "stream",
     "text": [
      "tugas\t: 90, uts: 80, uas: 70\n",
      "skor\t: 80.0\n"
     ]
    }
   ],
   "source": [
    "nilai = [90, 80, 70]\n",
    "tugas, uts, uas = nilai\n",
    "score = (tugas + uts + uas)/3\n",
    "\n",
    "print(f\"tugas\\t: {tugas}, uts: {uts}, uas: {uas}\\nskor\\t: {score}\")"
   ]
  },
  {
   "cell_type": "code",
   "execution_count": null,
   "id": "7cfa1e8e",
   "metadata": {},
   "outputs": [],
   "source": [
    "#TUple"
   ]
  },
  {
   "cell_type": "code",
   "execution_count": 8,
   "id": "9bd7529f",
   "metadata": {},
   "outputs": [
    {
     "name": "stdout",
     "output_type": "stream",
     "text": [
      "('merah', 'jingga', 'kuning', 'hijau', 'biru', 'nila', 'ungu')\n",
      "(10, 25, 67, -81, 93, -1)\n",
      "(3.6, 1.2, 9.5, 7.6, 4.2)\n",
      "(True, True, True, False, False)\n"
     ]
    },
    {
     "data": {
      "text/plain": [
       "tuple"
      ]
     },
     "execution_count": 8,
     "metadata": {},
     "output_type": "execute_result"
    }
   ],
   "source": [
    "warna = 'merah', 'jingga', 'kuning', 'hijau', 'biru', 'nila', 'ungu'\n",
    "bulat = 10, 25, 67, -81, 93, -1\n",
    "desimal = (3.6, 1.2, 9.5, 7.6, 4.2)\n",
    "kondisi = (True, True, True, False, False)\n",
    "\n",
    "print(warna)\n",
    "print(bulat)\n",
    "print(desimal)\n",
    "print(kondisi)\n",
    "\n",
    "type(warna)"
   ]
  },
  {
   "cell_type": "code",
   "execution_count": 9,
   "id": "b2693d9c",
   "metadata": {},
   "outputs": [
    {
     "name": "stdout",
     "output_type": "stream",
     "text": [
      "('Sang Pemimpi', 'Andrea Hirata', 2006, 292, 5.5, True)\n",
      "(('Tiongkok', 1415.1), ('India', False), ('USA', 337.6, False, 4.34), ('Indonesia', 272.229, True))\n",
      "((0, 1, 0), (1, 0, 1), (0, 1, 0))\n"
     ]
    }
   ],
   "source": [
    "novel = 'Sang Pemimpi', 'Andrea Hirata', 2006, 292, 5.5, True\n",
    "\n",
    "negara = (('Tiongkok', 1415.1),\n",
    "          ('India', False),\n",
    "          ('USA', 337.6, False, 4.34),\n",
    "          ('Indonesia', 272.229, True)\n",
    "         )\n",
    "\n",
    "pixel = ((0,1,0),\n",
    "         (1,0,1),\n",
    "         (0,1,0))\n",
    "\n",
    "print(novel)\n",
    "print(negara)\n",
    "print(pixel)"
   ]
  },
  {
   "cell_type": "code",
   "execution_count": 10,
   "id": "908077c0",
   "metadata": {},
   "outputs": [
    {
     "name": "stdout",
     "output_type": "stream",
     "text": [
      "(1, 2, 3, 4, 5)\n"
     ]
    },
    {
     "data": {
      "text/plain": [
       "tuple"
      ]
     },
     "execution_count": 10,
     "metadata": {},
     "output_type": "execute_result"
    }
   ],
   "source": [
    "angka = [1, 2, 3, 4, 5]\n",
    "angka = tuple(angka)\n",
    "\n",
    "print(angka)\n",
    "type(angka)"
   ]
  },
  {
   "cell_type": "code",
   "execution_count": 12,
   "id": "efbd6055",
   "metadata": {},
   "outputs": [
    {
     "name": "stdout",
     "output_type": "stream",
     "text": [
      "['a', 'b', 'c', 'd', 'e']\n"
     ]
    },
    {
     "data": {
      "text/plain": [
       "tuple"
      ]
     },
     "execution_count": 12,
     "metadata": {},
     "output_type": "execute_result"
    }
   ],
   "source": [
    "huruf = ('a', 'b', 'c', 'd', 'e')\n",
    "huruf = list(huruf)\n",
    "\n",
    "print(huruf)\n",
    "type(angka)"
   ]
  },
  {
   "cell_type": "code",
   "execution_count": 15,
   "id": "67ebc734",
   "metadata": {},
   "outputs": [
    {
     "name": "stdout",
     "output_type": "stream",
     "text": [
      "nila\n",
      "jingga \n",
      "\n",
      "('jingga', 'kuning', 'hijau')\n",
      "('hijau', 'biru', 'nila') \n",
      "\n",
      "()\n",
      "biru \n",
      "\n",
      "('merah', 'jingga', 'kuning')\n",
      "('merah', 'jingga', 'kuning', 'hijau', 'biru') \n",
      "\n"
     ]
    }
   ],
   "source": [
    "warna = 'merah', 'jingga', 'kuning', 'hijau', 'biru', 'nila', 'ungu'\n",
    "\n",
    "print(warna[5])\n",
    "print(warna[-6], '\\n')\n",
    "\n",
    "print(warna[1:4])\n",
    "print(warna[-4:-1], '\\n')\n",
    "\n",
    "print(warna[5:1])\n",
    "print(warna[-3], '\\n')\n",
    "\n",
    "print(warna[:3])\n",
    "print(warna[:-2], '\\n')"
   ]
  },
  {
   "cell_type": "code",
   "execution_count": 21,
   "id": "27d63a99",
   "metadata": {},
   "outputs": [
    {
     "name": "stdout",
     "output_type": "stream",
     "text": [
      "['RED', 'jingga', 'kuning', 'GREEN', 'BLUE', 'nila', 'ungu']\n"
     ]
    }
   ],
   "source": [
    "warna = ['merah', 'jingga', 'kuning', 'hijau', 'biru', 'nila', 'ungu']\n",
    "\n",
    "warna[0] = 'RED'\n",
    "warna[3] = 'GREEN'\n",
    "warna[4] = 'BLUE'\n",
    "\n",
    "print(warna)"
   ]
  },
  {
   "cell_type": "code",
   "execution_count": 22,
   "id": "1b11fccd",
   "metadata": {},
   "outputs": [],
   "source": [
    "warna.append('black')"
   ]
  },
  {
   "cell_type": "code",
   "execution_count": 24,
   "id": "5bbcd98a",
   "metadata": {},
   "outputs": [],
   "source": [
    "warna.clear()"
   ]
  },
  {
   "cell_type": "code",
   "execution_count": null,
   "id": "d3b345e3",
   "metadata": {},
   "outputs": [],
   "source": [
    "#Dictionary"
   ]
  },
  {
   "cell_type": "code",
   "execution_count": 25,
   "id": "d0ba22b1",
   "metadata": {},
   "outputs": [
    {
     "name": "stdout",
     "output_type": "stream",
     "text": [
      "{'nama': 'Imut', 'jenis': 'kucing', 'warna': 'jingga', 'umur': 1.5, 'jenis_kelamin': 0, 'vaksin': False}\n"
     ]
    }
   ],
   "source": [
    "myPet = {'nama' : 'Imut', \n",
    "         'jenis':'kucing', \n",
    "         'warna':'jingga', \n",
    "         'umur':1.5, \n",
    "         'jenis_kelamin':0, \n",
    "         'vaksin':False}\n",
    "print(myPet)"
   ]
  },
  {
   "cell_type": "code",
   "execution_count": 37,
   "id": "442cff57",
   "metadata": {},
   "outputs": [
    {
     "name": "stdout",
     "output_type": "stream",
     "text": [
      "{'kelas': 'Bravolexta', 'student': 40, 'nama': ('Anindya', 'David', 'Rengga', 'Nurul', 'Yusup'), 'nilai': [90.5, 55.1, 60, 71.5, 85.6], 'lulus': (True, False, False, True, True)}\n"
     ]
    },
    {
     "data": {
      "text/plain": [
       "dict"
      ]
     },
     "execution_count": 37,
     "metadata": {},
     "output_type": "execute_result"
    }
   ],
   "source": [
    "kelas = {'kelas':'Bravolexta',\n",
    "         'student' :40,\n",
    "         'nama':('Anindya','David', 'Rengga', 'Nurul', 'Yusup'),\n",
    "         'nilai':[90.5, 55.1, 60, 71.5, 85.6],\n",
    "         'lulus':(True, False, False, True, True)\n",
    "        }\n",
    "print(kelas)\n",
    "type(kelas)"
   ]
  },
  {
   "cell_type": "code",
   "execution_count": 38,
   "id": "ee055f08",
   "metadata": {},
   "outputs": [
    {
     "name": "stdout",
     "output_type": "stream",
     "text": [
      "{'apel': 10, 'mangga': 5, 'jeruk': 15, 'pisang': 6, 'manggis': 21}\n"
     ]
    },
    {
     "data": {
      "text/plain": [
       "dict"
      ]
     },
     "execution_count": 38,
     "metadata": {},
     "output_type": "execute_result"
    }
   ],
   "source": [
    "buah = ['apel', 'mangga', 'jeruk', 'pisang', 'manggis']\n",
    "jumlah = [10, 5, 15, 6, 21]\n",
    "\n",
    "gudang = dict(zip(buah,jumlah))\n",
    "\n",
    "print(gudang)\n",
    "type(gudang)"
   ]
  },
  {
   "cell_type": "code",
   "execution_count": 39,
   "id": "b06463ba",
   "metadata": {},
   "outputs": [
    {
     "data": {
      "text/plain": [
       "dict_items([('apel', 10), ('mangga', 5), ('jeruk', 15), ('pisang', 6), ('manggis', 21)])"
      ]
     },
     "execution_count": 39,
     "metadata": {},
     "output_type": "execute_result"
    }
   ],
   "source": [
    "gudang.keys()\n",
    "gudang.values()\n",
    "gudang.items()"
   ]
  },
  {
   "cell_type": "code",
   "execution_count": 96,
   "id": "349bdbca",
   "metadata": {},
   "outputs": [
    {
     "data": {
      "text/plain": [
       "False"
      ]
     },
     "execution_count": 96,
     "metadata": {},
     "output_type": "execute_result"
    }
   ],
   "source": [
    "'menteng' in gudang.keys()"
   ]
  },
  {
   "cell_type": "code",
   "execution_count": 41,
   "id": "63d224b6",
   "metadata": {},
   "outputs": [
    {
     "data": {
      "text/plain": [
       "False"
      ]
     },
     "execution_count": 41,
     "metadata": {},
     "output_type": "execute_result"
    }
   ],
   "source": [
    "'manggis' not in gudang.keys()"
   ]
  },
  {
   "cell_type": "code",
   "execution_count": 42,
   "id": "b335afd6",
   "metadata": {},
   "outputs": [
    {
     "data": {
      "text/plain": [
       "False"
      ]
     },
     "execution_count": 42,
     "metadata": {},
     "output_type": "execute_result"
    }
   ],
   "source": [
    "10 in gudang.keys()"
   ]
  },
  {
   "cell_type": "code",
   "execution_count": 43,
   "id": "e4279690",
   "metadata": {},
   "outputs": [
    {
     "data": {
      "text/plain": [
       "True"
      ]
     },
     "execution_count": 43,
     "metadata": {},
     "output_type": "execute_result"
    }
   ],
   "source": [
    "100 not in gudang.values()"
   ]
  },
  {
   "cell_type": "code",
   "execution_count": 44,
   "id": "e21c7f80",
   "metadata": {},
   "outputs": [
    {
     "name": "stdout",
     "output_type": "stream",
     "text": [
      "{'apel': 10, 'mangga': 5, 'jeruk': 15, 'pisang': 6, 'manggis': 21}\n",
      "Jumlah apel =  10\n",
      "Jumlah mangga =  5\n",
      "Jumlah jeruk =  15\n",
      "Jumlah pisang =  6\n",
      "Jumlah manggis =  21\n"
     ]
    }
   ],
   "source": [
    "print(gudang)\n",
    "\n",
    "print('Jumlah apel = ', gudang['apel'])\n",
    "print('Jumlah mangga = ', gudang['mangga'])\n",
    "print('Jumlah jeruk = ', gudang['jeruk'])\n",
    "print('Jumlah pisang = ', gudang['pisang'])\n",
    "print('Jumlah manggis = ', gudang['manggis'])"
   ]
  },
  {
   "cell_type": "code",
   "execution_count": 49,
   "id": "5ed098ea",
   "metadata": {},
   "outputs": [
    {
     "name": "stdout",
     "output_type": "stream",
     "text": [
      "{'apel': 100, 'mangga': 150, 'jeruk': 105, 'pisang': 50, 'manggis': 71}\n",
      "{'apel': 100, 'mangga': 150, 'jeruk': 105, 'pisang': 50, 'manggis': 71}\n"
     ]
    }
   ],
   "source": [
    "print(gudang)\n",
    "\n",
    "#Restock\n",
    "gudang['apel'] = 100\n",
    "gudang['mangga'] = 150\n",
    "gudang['jeruk'] = 105\n",
    "gudang['pisang'] = 50\n",
    "gudang['manggis'] =71\n",
    "print(gudang)"
   ]
  },
  {
   "cell_type": "code",
   "execution_count": 53,
   "id": "5aa5680b",
   "metadata": {},
   "outputs": [
    {
     "name": "stdout",
     "output_type": "stream",
     "text": [
      "{'apel': 100, 'mangga': 150, 'jeruk': 105, 'pisang': 50, 'manggis': 71}\n",
      "Jumlah apel =  100\n",
      "Jumlah mangga =  150\n",
      "Jumlah jeruk =  105\n",
      "Jumlah pisang =  50\n",
      "Jumlah manggis =  71\n"
     ]
    }
   ],
   "source": [
    "print(gudang)\n",
    "\n",
    "print('Jumlah apel = ', gudang.get('apel'))\n",
    "print('Jumlah mangga = ', gudang.get('mangga'))\n",
    "print('Jumlah jeruk = ', gudang.get('jeruk'))\n",
    "print('Jumlah pisang = ', gudang.get('pisang'))\n",
    "print('Jumlah manggis = ', gudang.get('manggis'))"
   ]
  },
  {
   "cell_type": "code",
   "execution_count": 54,
   "id": "8497850b",
   "metadata": {},
   "outputs": [
    {
     "name": "stdout",
     "output_type": "stream",
     "text": [
      "Jumlah Jamblang =  Stok jamblang ksoong !\n"
     ]
    }
   ],
   "source": [
    "print('Jumlah Jamblang = ', gudang.get('jamblang', 'Stok jamblang kosong !'))"
   ]
  },
  {
   "cell_type": "code",
   "execution_count": 58,
   "id": "09c0a34e",
   "metadata": {},
   "outputs": [
    {
     "ename": "TypeError",
     "evalue": "unhashable type: 'slice'",
     "output_type": "error",
     "traceback": [
      "\u001b[1;31m---------------------------------------------------------------------------\u001b[0m",
      "\u001b[1;31mTypeError\u001b[0m                                 Traceback (most recent call last)",
      "Input \u001b[1;32mIn [58]\u001b[0m, in \u001b[0;36m<cell line: 1>\u001b[1;34m()\u001b[0m\n\u001b[1;32m----> 1\u001b[0m \u001b[43mgudang\u001b[49m\u001b[43m[\u001b[49m\u001b[38;5;124;43m'\u001b[39;49m\u001b[38;5;124;43mapel\u001b[39;49m\u001b[38;5;124;43m'\u001b[39;49m\u001b[43m:\u001b[49m\u001b[38;5;124;43m'\u001b[39;49m\u001b[38;5;124;43mpisang\u001b[39;49m\u001b[38;5;124;43m'\u001b[39;49m\u001b[43m]\u001b[49m\n\u001b[0;32m      2\u001b[0m gudang[\u001b[38;5;124m'\u001b[39m\u001b[38;5;124mjeruk\u001b[39m\u001b[38;5;124m'\u001b[39m:]\n\u001b[0;32m      3\u001b[0m gudang[:\u001b[38;5;124m'\u001b[39m\u001b[38;5;124mmanggis\u001b[39m\u001b[38;5;124m'\u001b[39m]\n",
      "\u001b[1;31mTypeError\u001b[0m: unhashable type: 'slice'"
     ]
    }
   ],
   "source": [
    "gudang['apel':'pisang']\n",
    "gudang['jeruk':]\n",
    "gudang[:'manggis']"
   ]
  },
  {
   "cell_type": "code",
   "execution_count": 60,
   "id": "ea4959b1",
   "metadata": {},
   "outputs": [
    {
     "name": "stdout",
     "output_type": "stream",
     "text": [
      "{'Andini': 5000, 'Ganes': 4500, 'Chandra': 5250, 'Dita': 6000}\n",
      "{'Andini': 5000, 'Ganes': 4500, 'Chandra': 5250, 'Dita': 6000, 'Indy': 7000, 'Devi': 3000, 'Rifky': 2500}\n"
     ]
    }
   ],
   "source": [
    "nasabah = {'Andini':5000,\n",
    "           'Ganes':4500,\n",
    "           'Chandra':5250,\n",
    "           'Dita':6000}\n",
    "print(nasabah)\n",
    "\n",
    "nasabah['Indy'] = 7000\n",
    "nasabah['Devi'] = 3000\n",
    "nasabah['Rifky'] = 2500\n",
    "print(nasabah)"
   ]
  },
  {
   "cell_type": "code",
   "execution_count": 61,
   "id": "0656b932",
   "metadata": {},
   "outputs": [
    {
     "name": "stdout",
     "output_type": "stream",
     "text": [
      "{'Andini': 5000, 'Ganes': 4500, 'Chandra': 5250, 'Dita': 6000, 'Indy': 7000, 'Devi': 3000, 'Rifky': 2500} \n",
      "\n",
      "{'Andini': 5000, 'Chandra': 5250, 'Dita': 6000, 'Indy': 7000, 'Devi': 3000} \n",
      "\n",
      "{'Andini': 5000, 'Dita': 6000, 'Indy': 7000, 'Devi': 3000} \n",
      "\n",
      "{}\n"
     ]
    }
   ],
   "source": [
    "print(nasabah, '\\n')\n",
    "del nasabah['Ganes']\n",
    "del nasabah['Rifky']\n",
    "print(nasabah, '\\n')\n",
    "\n",
    "pesan = 'Nasabah tidak ditemukan'\n",
    "nasabah.pop('Chandra', pesan)\n",
    "nasabah.pop('Zul',pesan)\n",
    "print(nasabah, '\\n')\n",
    "\n",
    "nasabah.clear()\n",
    "print(nasabah)"
   ]
  },
  {
   "cell_type": "code",
   "execution_count": null,
   "id": "db6a1df4",
   "metadata": {},
   "outputs": [],
   "source": [
    "#Set"
   ]
  },
  {
   "cell_type": "code",
   "execution_count": 62,
   "id": "41f2eab8",
   "metadata": {},
   "outputs": [
    {
     "name": "stdout",
     "output_type": "stream",
     "text": [
      "{1, 2, 3}\n"
     ]
    },
    {
     "data": {
      "text/plain": [
       "set"
      ]
     },
     "execution_count": 62,
     "metadata": {},
     "output_type": "execute_result"
    }
   ],
   "source": [
    "A = {1, 2, 3}\n",
    "print(A)\n",
    "type(A)"
   ]
  },
  {
   "cell_type": "code",
   "execution_count": 63,
   "id": "a3ebd688",
   "metadata": {},
   "outputs": [
    {
     "name": "stdout",
     "output_type": "stream",
     "text": [
      "{'r', 'f', 'e', 'b', 'y'}\n",
      "{2, 5, 6, 18, 25}\n"
     ]
    },
    {
     "data": {
      "text/plain": [
       "set"
      ]
     },
     "execution_count": 63,
     "metadata": {},
     "output_type": "execute_result"
    }
   ],
   "source": [
    "nama = 'febry'\n",
    "nama = set(nama)\n",
    "print(nama)\n",
    "type(nama)\n",
    "\n",
    "karakter = [6, 5, 2, 18, 25]\n",
    "karakter = set(karakter)\n",
    "print(karakter)\n",
    "type(karakter)"
   ]
  },
  {
   "cell_type": "code",
   "execution_count": 64,
   "id": "3b60cca6",
   "metadata": {},
   "outputs": [
    {
     "name": "stdout",
     "output_type": "stream",
     "text": [
      "{0, 1, 2, 3}\n"
     ]
    }
   ],
   "source": [
    "label = [1, 1, 1, 0, 0, 3, 3, 3, 2, 2, 0, 3, 1, 2]\n",
    "label = set(label)\n",
    "print(label)"
   ]
  },
  {
   "cell_type": "code",
   "execution_count": 65,
   "id": "8cc7f1fc",
   "metadata": {},
   "outputs": [
    {
     "name": "stdout",
     "output_type": "stream",
     "text": [
      "{'H', 'd', 'a', 'n', ' ', 'W', 'p', 'y', 'Y', 'i', 'u', 's', 't'}\n"
     ]
    }
   ],
   "source": [
    "nama = 'Yusup Hidayat Winata'\n",
    "nama = set(nama)\n",
    "print(nama)"
   ]
  },
  {
   "cell_type": "code",
   "execution_count": 70,
   "id": "57f4433d",
   "metadata": {},
   "outputs": [],
   "source": [
    "iris = ['virginica', 'versicolor', 'setosa']"
   ]
  },
  {
   "cell_type": "code",
   "execution_count": 73,
   "id": "e3a6b184",
   "metadata": {},
   "outputs": [
    {
     "name": "stdout",
     "output_type": "stream",
     "text": [
      "virginica\n"
     ]
    },
    {
     "data": {
      "text/plain": [
       "['virginica']"
      ]
     },
     "execution_count": 73,
     "metadata": {},
     "output_type": "execute_result"
    }
   ],
   "source": [
    "x = iris[0]\n",
    "print(x)\n",
    "iris[0:1]"
   ]
  },
  {
   "cell_type": "code",
   "execution_count": 78,
   "id": "f74035d6",
   "metadata": {},
   "outputs": [
    {
     "name": "stdout",
     "output_type": "stream",
     "text": [
      "{'setosa', 'versicolor', 'virginica'} \n",
      "\n",
      "{'confusa', 'versicolor', 'virginica', 'setosa', 'sweet', 'ayame'} \n",
      "\n",
      "{'confusa', 'sweet', 'ayame'} \n",
      "\n"
     ]
    }
   ],
   "source": [
    "iris = {'virginica', 'versicolor', 'setosa'}\n",
    "print(iris,'\\n')\n",
    "\n",
    "iris.add('ayame')\n",
    "iris.add('sweet')\n",
    "iris.add('confusa')\n",
    "iris.add('setosa')\n",
    "print(iris,'\\n')\n",
    "\n",
    "iris.remove('virginica')\n",
    "iris.remove('versicolor')\n",
    "iris.remove('setosa')\n",
    "print(iris,'\\n')"
   ]
  },
  {
   "cell_type": "code",
   "execution_count": 79,
   "id": "47aea830",
   "metadata": {},
   "outputs": [
    {
     "name": "stdout",
     "output_type": "stream",
     "text": [
      "{3, 5}\n",
      "{1, 2, 3, 5, 6, 7}\n"
     ]
    }
   ],
   "source": [
    "A = {1,2,3,5}\n",
    "B = {3,5,6,7}\n",
    "\n",
    "# A irisan B\n",
    "irisan = A.intersection(B)\n",
    "print(irisan)\n",
    "\n",
    "# A gabungan B\n",
    "gabungan = A.union(B)\n",
    "print(gabungan)"
   ]
  },
  {
   "cell_type": "code",
   "execution_count": 82,
   "id": "5578d588",
   "metadata": {},
   "outputs": [],
   "source": [
    "#Array"
   ]
  },
  {
   "cell_type": "code",
   "execution_count": 4,
   "id": "808f8fc8",
   "metadata": {},
   "outputs": [
    {
     "name": "stdout",
     "output_type": "stream",
     "text": [
      "[12  3  5  6  0 -1 -2]\n"
     ]
    },
    {
     "data": {
      "text/plain": [
       "numpy.ndarray"
      ]
     },
     "execution_count": 4,
     "metadata": {},
     "output_type": "execute_result"
    }
   ],
   "source": [
    "import numpy as np\n",
    "number = np.array([12, 3, 5, 6 , 0, -1, -2])\n",
    "print(number)\n",
    "type(number)"
   ]
  },
  {
   "cell_type": "code",
   "execution_count": 84,
   "id": "a1521311",
   "metadata": {},
   "outputs": [
    {
     "name": "stdout",
     "output_type": "stream",
     "text": [
      "['Z' 'R' 'A' 'Q' 'W']\n"
     ]
    },
    {
     "data": {
      "text/plain": [
       "numpy.ndarray"
      ]
     },
     "execution_count": 84,
     "metadata": {},
     "output_type": "execute_result"
    }
   ],
   "source": [
    "huruf = ['Z', 'R', 'A', 'Q', 'W']\n",
    "huruf = np.array(huruf)\n",
    "print(huruf)\n",
    "type(huruf)"
   ]
  },
  {
   "cell_type": "code",
   "execution_count": 85,
   "id": "93e0ec31",
   "metadata": {},
   "outputs": [
    {
     "name": "stdout",
     "output_type": "stream",
     "text": [
      "[12.  3.  5.  6.  0. -1. -2.]\n"
     ]
    },
    {
     "data": {
      "text/plain": [
       "numpy.ndarray"
      ]
     },
     "execution_count": 85,
     "metadata": {},
     "output_type": "execute_result"
    }
   ],
   "source": [
    "number = np.array([12, 3, 5, 6 ,0, -1, -2], dtype=float)\n",
    "print(number)\n",
    "type(number)"
   ]
  },
  {
   "cell_type": "code",
   "execution_count": 86,
   "id": "06435f03",
   "metadata": {},
   "outputs": [
    {
     "name": "stdout",
     "output_type": "stream",
     "text": [
      "['12' '3' '5' '6' '0' '-1' '-2']\n"
     ]
    },
    {
     "data": {
      "text/plain": [
       "numpy.ndarray"
      ]
     },
     "execution_count": 86,
     "metadata": {},
     "output_type": "execute_result"
    }
   ],
   "source": [
    "number = np.array([12, 3, 5, 6 ,0, -1, -2], dtype=str)\n",
    "print(number)\n",
    "type(number)"
   ]
  },
  {
   "cell_type": "code",
   "execution_count": 87,
   "id": "30057522",
   "metadata": {},
   "outputs": [
    {
     "name": "stdout",
     "output_type": "stream",
     "text": [
      "[ True  True  True  True False  True  True]\n"
     ]
    },
    {
     "data": {
      "text/plain": [
       "numpy.ndarray"
      ]
     },
     "execution_count": 87,
     "metadata": {},
     "output_type": "execute_result"
    }
   ],
   "source": [
    "number = np.array([12, 3, 5, 6 ,0, -1, -2], dtype=bool)\n",
    "print(number)\n",
    "type(number)"
   ]
  },
  {
   "cell_type": "code",
   "execution_count": 88,
   "id": "b6249c4b",
   "metadata": {},
   "outputs": [
    {
     "name": "stdout",
     "output_type": "stream",
     "text": [
      "[[1 2 3]\n",
      " [4 5 6]\n",
      " [7 8 9]]\n"
     ]
    },
    {
     "data": {
      "text/plain": [
       "numpy.ndarray"
      ]
     },
     "execution_count": 88,
     "metadata": {},
     "output_type": "execute_result"
    }
   ],
   "source": [
    "M = np.array([[1,2,3],\n",
    "              [4,5,6],\n",
    "              [7,8,9]], \n",
    "              dtype=int)\n",
    "print(M)\n",
    "type(M)"
   ]
  },
  {
   "cell_type": "code",
   "execution_count": 90,
   "id": "b37165ac",
   "metadata": {},
   "outputs": [
    {
     "name": "stdout",
     "output_type": "stream",
     "text": [
      "Size :  7\n",
      "Dimension :  1\n",
      "Shape :  (7,) \n",
      "\n",
      "Size :  9\n",
      "Dimension :  2\n",
      "Shape :  (3, 3)\n"
     ]
    }
   ],
   "source": [
    "print('Size : ', number.size)\n",
    "print('Dimension : ', number.ndim)\n",
    "print('Shape : ', number.shape, '\\n')\n",
    "\n",
    "print('Size : ', M.size)\n",
    "print('Dimension : ', M.ndim)\n",
    "print('Shape : ', M.shape)"
   ]
  },
  {
   "cell_type": "code",
   "execution_count": 95,
   "id": "99a1dcab",
   "metadata": {},
   "outputs": [
    {
     "name": "stdout",
     "output_type": "stream",
     "text": [
      "[0. 0. 0. 0. 0.] \n",
      "\n",
      "[[0 0 0]\n",
      " [0 0 0]\n",
      " [0 0 0]] \n",
      "\n"
     ]
    }
   ],
   "source": [
    "nol_kecil = np.zeros(5) # ordo 5x1\n",
    "nol_besar = np.zeros((3,3), dtype=int) #ordo 4x4\n",
    "\n",
    "print(nol_kecil, '\\n')\n",
    "print(nol_besar, '\\n')"
   ]
  },
  {
   "cell_type": "code",
   "execution_count": 98,
   "id": "fc0c1277",
   "metadata": {},
   "outputs": [
    {
     "name": "stdout",
     "output_type": "stream",
     "text": [
      "[1. 1. 1. 1. 1. 1. 1. 1. 1. 1.] \n",
      "\n",
      "[[1 1 1 1]\n",
      " [1 1 1 1]\n",
      " [1 1 1 1]\n",
      " [1 1 1 1]] \n",
      "\n"
     ]
    }
   ],
   "source": [
    "vecor_1 = np.ones(10)\n",
    "matriks_1 = np.ones((4,4), dtype=int)\n",
    "\n",
    "print(vecor_1, '\\n')\n",
    "print(matriks_1, '\\n')"
   ]
  },
  {
   "cell_type": "code",
   "execution_count": 99,
   "id": "1162641b",
   "metadata": {},
   "outputs": [
    {
     "name": "stdout",
     "output_type": "stream",
     "text": [
      "[0 1 2 3 4 5 6 7 8] \n",
      "\n",
      "[[0 1 2]\n",
      " [3 4 5]\n",
      " [6 7 8]] \n",
      "\n"
     ]
    }
   ],
   "source": [
    "vector_range = np.arange(9)\n",
    "matriks_range = vector_range.reshape(3,3)\n",
    "\n",
    "print(vector_range, '\\n')\n",
    "print(matriks_range, '\\n')"
   ]
  },
  {
   "cell_type": "code",
   "execution_count": 100,
   "id": "46ab5152",
   "metadata": {},
   "outputs": [
    {
     "name": "stdout",
     "output_type": "stream",
     "text": [
      "['id' 'en' 'jp' 'cn' 'ru' 'kr' 'th'] \n",
      "\n",
      "id \n",
      "\n",
      "th \n",
      "\n",
      "['en' 'jp' 'cn'] \n",
      "\n",
      "['ru'] \n",
      "\n",
      "['cn' 'ru' 'kr' 'th'] \n",
      "\n",
      "['id' 'en' 'jp' 'cn' 'ru' 'kr'] \n",
      "\n",
      "['jp' 'cn' 'ru' 'kr' 'th'] \n",
      "\n",
      "['id' 'en' 'jp' 'cn'] \n",
      "\n"
     ]
    }
   ],
   "source": [
    "lang = np.array(['id', 'en', 'jp', 'cn', 'ru', 'kr', 'th'])\n",
    "\n",
    "print(lang,'\\n')\n",
    "print(lang[0], '\\n')\n",
    "print(lang[-1], '\\n')\n",
    "\n",
    "print(lang[1:4], '\\n')\n",
    "print(lang[-3:-2], '\\n')\n",
    "\n",
    "print(lang[3:], '\\n')\n",
    "print(lang[:6], '\\n')\n",
    "\n",
    "print(lang[-5:], '\\n')\n",
    "print(lang[:-3], '\\n')"
   ]
  },
  {
   "cell_type": "code",
   "execution_count": 102,
   "id": "471e37cc",
   "metadata": {},
   "outputs": [
    {
     "name": "stdout",
     "output_type": "stream",
     "text": [
      "['id' 'en' 'jp' 'cn' 'ru' 'kr' 'th'] \n",
      "\n",
      "['no' 'no' 'no' 'no' 'CA' 'AR' 'HI'] \n",
      "\n"
     ]
    }
   ],
   "source": [
    "lang = np.array (['id', 'en', 'jp', 'cn','ru','kr','th'])\n",
    "print(lang,'\\n')\n",
    "\n",
    "lang[4] = 'CA'\n",
    "lang[5] = 'AR'\n",
    "lang[-1] = 'HI'\n",
    "lang[:4] = 'no'\n",
    "\n",
    "print(lang, '\\n')"
   ]
  },
  {
   "cell_type": "code",
   "execution_count": 103,
   "id": "235c1d58",
   "metadata": {},
   "outputs": [
    {
     "name": "stdout",
     "output_type": "stream",
     "text": [
      "[[81 24 36]\n",
      " [43 67 12]\n",
      " [75 90 58]] \n",
      "\n",
      "12\n",
      "75\n",
      "24\n"
     ]
    }
   ],
   "source": [
    "A = np.array([[81, 24, 36],\n",
    "              [43, 67, 12],\n",
    "              [75, 90, 58]])\n",
    "print(A, '\\n')\n",
    "\n",
    "print(A[1,2]) # baris 1 kolom 2\n",
    "print(A[2,0]) # baris 2 kolom 0\n",
    "print(A[0,1]) # baris 0 kolom 1"
   ]
  },
  {
   "cell_type": "code",
   "execution_count": 5,
   "id": "184bb000",
   "metadata": {},
   "outputs": [
    {
     "name": "stdout",
     "output_type": "stream",
     "text": [
      "[[81 24 36]\n",
      " [43 67 12]\n",
      " [75 90 58]] \n",
      "\n",
      "[[81 24]\n",
      " [43 67]\n",
      " [75 90]] \n",
      "\n",
      "[[67]] \n",
      "\n",
      "[[81 24 36]\n",
      " [43 67 12]] \n",
      "\n",
      "[[36]\n",
      " [12]\n",
      " [58]] \n",
      "\n",
      "[[67 12]\n",
      " [90 58]] \n",
      "\n",
      "[[81 24]\n",
      " [43 67]] \n",
      "\n"
     ]
    }
   ],
   "source": [
    "B = np.array([[81, 24, 36],\n",
    "              [43, 67, 12],\n",
    "              [75, 90, 58]])\n",
    "print(B, '\\n')\n",
    "\n",
    "print(B[0:3, 0:2],'\\n')\n",
    "print(B[1:2, 1:2],'\\n')\n",
    "print(B[0:2, :],'\\n')\n",
    "print(B[:, 2:3],'\\n')\n",
    "print(B[1:, 1:],'\\n')\n",
    "print(B[:2, :2],'\\n')"
   ]
  },
  {
   "cell_type": "code",
   "execution_count": 6,
   "id": "c48a7071",
   "metadata": {},
   "outputs": [
    {
     "name": "stdout",
     "output_type": "stream",
     "text": [
      "[[70 70 70]\n",
      " [70 70 70]\n",
      " [75 90 58]] \n",
      "\n"
     ]
    }
   ],
   "source": [
    "B[0:2, :] = '70'\n",
    "print(B, '\\n')"
   ]
  },
  {
   "cell_type": "code",
   "execution_count": 6,
   "id": "85da99a6",
   "metadata": {},
   "outputs": [],
   "source": [
    "X = np.array([[1,2,3], [4,5,6], [7,8,9]])\n",
    "Y = np.array([[2,2,2], [2,2,2], [2,2,2]])\n",
    "skalar = 3"
   ]
  },
  {
   "cell_type": "code",
   "execution_count": 7,
   "id": "2a36be71",
   "metadata": {},
   "outputs": [
    {
     "name": "stdout",
     "output_type": "stream",
     "text": [
      "[[ 4  5  6]\n",
      " [ 7  8  9]\n",
      " [10 11 12]] \n",
      "\n",
      " [[ 3  4  5]\n",
      " [ 6  7  8]\n",
      " [ 9 10 11]]\n"
     ]
    }
   ],
   "source": [
    "#penambahan\n",
    "A = X + skalar\n",
    "Z = X + Y\n",
    "\n",
    "print(A, '\\n\\n', Z)"
   ]
  },
  {
   "cell_type": "code",
   "execution_count": 8,
   "id": "12c025b8",
   "metadata": {},
   "outputs": [
    {
     "name": "stdout",
     "output_type": "stream",
     "text": [
      "[[-2 -1  0]\n",
      " [ 1  2  3]\n",
      " [ 4  5  6]] \n",
      "\n",
      " [[-1  0  1]\n",
      " [ 2  3  4]\n",
      " [ 5  6  7]]\n"
     ]
    }
   ],
   "source": [
    "#pengurangan\n",
    "A = X - skalar\n",
    "Z = X - Y\n",
    "\n",
    "print(A, '\\n\\n', Z)"
   ]
  },
  {
   "cell_type": "code",
   "execution_count": 9,
   "id": "8aea5b4e",
   "metadata": {},
   "outputs": [
    {
     "name": "stdout",
     "output_type": "stream",
     "text": [
      "[[ 3  6  9]\n",
      " [12 15 18]\n",
      " [21 24 27]] \n",
      "\n",
      " [[ 2  4  6]\n",
      " [ 8 10 12]\n",
      " [14 16 18]]\n"
     ]
    }
   ],
   "source": [
    "#dot product\n",
    "A = X * skalar\n",
    "Z = X * Y\n",
    "\n",
    "print(A, '\\n\\n', Z)"
   ]
  },
  {
   "cell_type": "code",
   "execution_count": 11,
   "id": "ef393a2a",
   "metadata": {},
   "outputs": [
    {
     "name": "stdout",
     "output_type": "stream",
     "text": [
      "[[12 12 12]\n",
      " [30 30 30]\n",
      " [48 48 48]]\n"
     ]
    }
   ],
   "source": [
    "# perkalian\n",
    "Z = np.matmul(X, Y)\n",
    "\n",
    "print(Z)"
   ]
  },
  {
   "cell_type": "code",
   "execution_count": null,
   "id": "c26a256a",
   "metadata": {},
   "outputs": [],
   "source": []
  },
  {
   "cell_type": "code",
   "execution_count": 12,
   "id": "bcc877df",
   "metadata": {},
   "outputs": [
    {
     "name": "stdout",
     "output_type": "stream",
     "text": [
      "-216.00000000000006\n"
     ]
    }
   ],
   "source": [
    "# mencari determinan matriks\n",
    "Z = X * X\n",
    "det_Z = np.linalg.det(Z)\n",
    "print(det_Z)"
   ]
  },
  {
   "cell_type": "code",
   "execution_count": 13,
   "id": "6f7ec5f8",
   "metadata": {},
   "outputs": [
    {
     "name": "stdout",
     "output_type": "stream",
     "text": [
      "[[ 1.29166667 -1.16666667  0.375     ]\n",
      " [-2.16666667  1.66666667 -0.5       ]\n",
      " [ 0.93055556 -0.61111111  0.18055556]]\n"
     ]
    }
   ],
   "source": [
    "# mencari determinan matriks\n",
    "Z = X * X\n",
    "inv_Z = np.linalg.inv(Z)\n",
    "print(inv_Z)"
   ]
  },
  {
   "cell_type": "code",
   "execution_count": 14,
   "id": "e73f41a6",
   "metadata": {},
   "outputs": [
    {
     "name": "stdout",
     "output_type": "stream",
     "text": [
      "[[1 2 3]\n",
      " [4 5 6]\n",
      " [7 8 9]] \n",
      "\n",
      "[[1 4 7]\n",
      " [2 5 8]\n",
      " [3 6 9]]\n"
     ]
    }
   ],
   "source": [
    "print(X,'\\n')\n",
    "X_T = X.transpose()\n",
    "print(X_T)"
   ]
  },
  {
   "cell_type": "code",
   "execution_count": 15,
   "id": "59c1cdf9",
   "metadata": {},
   "outputs": [
    {
     "name": "stdout",
     "output_type": "stream",
     "text": [
      "[[1 2 3]\n",
      " [4 5 6]\n",
      " [7 8 9]] \n",
      "\n",
      "[1 2 3 4 5 6 7 8 9]\n"
     ]
    }
   ],
   "source": [
    "print(X,'\\n')\n",
    "flat_T = X.flatten()\n",
    "print(flat_T)"
   ]
  },
  {
   "cell_type": "code",
   "execution_count": null,
   "id": "9dfca79e",
   "metadata": {},
   "outputs": [],
   "source": [
    "#Latihan"
   ]
  },
  {
   "cell_type": "code",
   "execution_count": 33,
   "id": "fda2fce2",
   "metadata": {},
   "outputs": [
    {
     "name": "stdout",
     "output_type": "stream",
     "text": [
      "NIK ['1990022', '2001077', '2002019', '2002081', '2005099', '2006003', '2006104', '2008160'] \n",
      "\n",
      "Nama ['Herman', 'Badar', 'Clara', 'Rista', 'Riani', 'Afif', 'Riven', 'Endah'] \n",
      "\n",
      "Jenis Kelamin ['L', 'L', 'P', 'P', 'P', 'L', 'L', 'P'] \n",
      "\n",
      "Alamat ['Tangerang', 'Bekasi', 'Depok', 'Bogor', 'Bekasi', 'Karawang', 'Tangerang', 'Jakarta'] \n",
      "\n",
      "Divisi ['Machinery', 'Machinery', 'Compressor', 'QC', 'QC', 'Compressor', 'Compressor', 'Machinery'] \n",
      "\n",
      "Jabatan ['Manager', 'Staff', 'Staff', 'Staff', 'Operator', 'Operator', 'Operator', 'Operator'] \n",
      "\n",
      "Gaji Pokok [100000, 7500000, 7000000, 6500000, 6000000, 5500000, 5500000, 5000000] \n",
      "\n"
     ]
    }
   ],
   "source": [
    "#1\n",
    "tabel = {\"NIK\": [\"1990022\",\"2001077\",\"2002019\",\"2002081\",\"2005099\",\"2006003\",\"2006104\",\"2008160\"],\n",
    "         \"Nama\" : [\"Herman\", \"Badar\", \"Clara\", \"Rista\", \"Riani\", \"Afif\", \"Riven\", \"Endah\"],\n",
    "         \"Jenis_Kelamin\" : [\"L\",\"L\",\"P\",\"P\",\"P\",\"L\",\"L\",\"P\"],\n",
    "         \"Alamat\" : [\"Tangerang\",\"Bekasi\",\"Depok\",\"Bogor\",\"Bekasi\",\"Karawang\",\"Tangerang\",\"Jakarta\"],\n",
    "         \"Divisi\" : [\"Machinery\",\"Machinery\",\"Compressor\",\"QC\",\"QC\",\"Compressor\",\"Compressor\",\"Machinery\"],\n",
    "         \"Jabatan\" : [\"Manager\",\"Staff\",\"Staff\",\"Staff\",\"Operator\",\"Operator\",\"Operator\",\"Operator\"],\n",
    "         \"Gaji_Pokok\" : [100000,7500000,7000000,6500000,6000000,5500000,5500000,5000000]\n",
    "    \n",
    "}\n",
    "\n",
    "#print(tabel)\n",
    "\n",
    "print(\"NIK\", tabel.get(\"NIK\"), \"\\n\")\n",
    "print(\"Nama\", tabel.get(\"Nama\"), \"\\n\")\n",
    "print(\"Jenis Kelamin\", tabel.get(\"Jenis_Kelamin\"), \"\\n\")\n",
    "print(\"Alamat\", tabel.get(\"Alamat\"), \"\\n\")\n",
    "print(\"Divisi\", tabel.get(\"Divisi\"), \"\\n\")\n",
    "print(\"Jabatan\", tabel.get(\"Jabatan\"), \"\\n\")\n",
    "print(\"Gaji Pokok\", tabel.get(\"Gaji_Pokok\"), \"\\n\")"
   ]
  },
  {
   "cell_type": "code",
   "execution_count": 25,
   "id": "1d0c06d2",
   "metadata": {},
   "outputs": [
    {
     "name": "stdout",
     "output_type": "stream",
     "text": [
      "[[1 2]\n",
      " [4 5]\n",
      " [7 8]] \n",
      "\n",
      "7\n",
      "8\n"
     ]
    }
   ],
   "source": [
    "#2\n",
    "A = np.array([[1,2],\n",
    "             [4,5],\n",
    "             [7,8]])\n",
    "print(A,'\\n')\n",
    "print(A[2,0])\n",
    "print(A[2,1])"
   ]
  },
  {
   "cell_type": "code",
   "execution_count": 26,
   "id": "ac2f4149",
   "metadata": {},
   "outputs": [
    {
     "name": "stdout",
     "output_type": "stream",
     "text": [
      "[[1 6 9]\n",
      " [2 5 8]] \n",
      "\n",
      "6\n",
      "5\n"
     ]
    }
   ],
   "source": [
    "#3\n",
    "B = np.array([[1,6,9],\n",
    "              [2,5,8]])\n",
    "print(B,'\\n')\n",
    "print(B[0,1])\n",
    "print(B[1,1])"
   ]
  },
  {
   "cell_type": "code",
   "execution_count": 27,
   "id": "75b8c53d",
   "metadata": {},
   "outputs": [
    {
     "name": "stdout",
     "output_type": "stream",
     "text": [
      "[[4 3 8]\n",
      " [7 2 5]\n",
      " [6 1 9]] \n",
      "\n",
      "2\n",
      "1 \n",
      "\n",
      "[[4 3 8]\n",
      " [7 2 5]\n",
      " [6 1 9]] \n",
      "\n",
      "3\n",
      "8\n"
     ]
    }
   ],
   "source": [
    "#4\n",
    "a = np.array([[4,3,8],\n",
    "              [7,2,5],\n",
    "              [6,1,9]])\n",
    "print(a,'\\n')\n",
    "print(a[1,1])\n",
    "print(a[2,1], '\\n')\n",
    "\n",
    "b = np.array([[4,3,8],\n",
    "              [7,2,5],\n",
    "              [6,1,9]])\n",
    "print(b,'\\n')\n",
    "print(b[0,1])\n",
    "print(b[0,2])"
   ]
  },
  {
   "cell_type": "code",
   "execution_count": 28,
   "id": "462e8c25",
   "metadata": {},
   "outputs": [
    {
     "name": "stdout",
     "output_type": "stream",
     "text": [
      "[[23 35 93 87]\n",
      " [92 44 11 83]\n",
      " [40 12 11 83]\n",
      " [73 67 65 32]] \n",
      "\n",
      "a. [44 11 83] \n",
      "\n",
      "b. [[12 11]\n",
      " [67 65]] \n",
      "\n",
      "c. [[44 11 83]\n",
      " [12 11 83]\n",
      " [67 65 32]] \n",
      "\n",
      "d. [[92 44]\n",
      " [40 12]] \n",
      "\n",
      "e. [[23 35 93]\n",
      " [92 44 11]] \n",
      "\n",
      "f. [44 12 67]\n"
     ]
    }
   ],
   "source": [
    "a = np.array([[23,35,93,87],\n",
    "              [92,44,11,83],\n",
    "              [40,12,11,83],\n",
    "              [73,67,65,32]])\n",
    "print(a,'\\n')\n",
    "print('a.', a[1, 1:], '\\n')\n",
    "print('b.', a[2:, 1:3], '\\n')\n",
    "print('c.', a[1:, 1:],'\\n')\n",
    "print('d.', a[1:3, :2], '\\n')\n",
    "print('e.', a[:2, :3],'\\n')\n",
    "print('f.', a[1:, 1])"
   ]
  },
  {
   "cell_type": "code",
   "execution_count": null,
   "id": "186243d9",
   "metadata": {},
   "outputs": [],
   "source": []
  }
 ],
 "metadata": {
  "kernelspec": {
   "display_name": "Python 3 (ipykernel)",
   "language": "python",
   "name": "python3"
  },
  "language_info": {
   "codemirror_mode": {
    "name": "ipython",
    "version": 3
   },
   "file_extension": ".py",
   "mimetype": "text/x-python",
   "name": "python",
   "nbconvert_exporter": "python",
   "pygments_lexer": "ipython3",
   "version": "3.9.12"
  }
 },
 "nbformat": 4,
 "nbformat_minor": 5
}
